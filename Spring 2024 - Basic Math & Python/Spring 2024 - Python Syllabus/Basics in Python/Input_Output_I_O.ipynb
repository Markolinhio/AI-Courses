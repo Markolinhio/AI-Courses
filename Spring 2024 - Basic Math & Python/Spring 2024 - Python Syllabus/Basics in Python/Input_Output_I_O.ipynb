{
  "nbformat": 4,
  "nbformat_minor": 0,
  "metadata": {
    "colab": {
      "provenance": []
    },
    "kernelspec": {
      "name": "python3",
      "display_name": "Python 3"
    },
    "language_info": {
      "name": "python"
    }
  },
  "cells": [
    {
      "cell_type": "markdown",
      "source": [
        "Trong Python, việc đọc viết và truy xuất file cũng là một phần của việc lập trình. Sẽ không quá khôn ngoan nếu như ta làm việc trên một lượng lớn dữ liệu mà chỉ khởi tạo bằng khai báo biến, cũng như là những dữ liệu đó sẽ mất đi khi chúng ta tắt chương trình. Vì vậy ta cần phải biết viết các dữ liệu đó thành một file cũng như đọc các file đó.\n",
        "\n",
        "Có rất nhiều cách viết một file dữ liệu cũng như có rất nhiều định dạng file có thể dùng. Lựa chọn của chúng ta phần lớn phụ thuộc vào định dạng của dữ liệu ta đang làm việc.\n",
        "\n",
        "Ví dụ:\n",
        "+ Dữ liệu dạng văn bản: file txt (file chữ)\n",
        "+ Dữ liệu dạng dictionary có tên và giá trị các thuộc tính: file json\n",
        "+ Dữ liệu dạng bảng số: file csv hoặc file npy hoặc file txt\n",
        "+ Dữ liệu dạng hình ảnh: file hình ảnh png hay jpg (không khuyên dùng)\n",
        "\n",
        "Ở phần này, ta sẽ tập trung vào việc đọc viết file txt. Những định dạng khác sẽ được học ở các phần khác."
      ],
      "metadata": {
        "id": "qHwO2zzWXVZw"
      }
    },
    {
      "cell_type": "markdown",
      "source": [
        "Cú pháp cơ bản trong I/O:\n",
        "\n",
        "Đọc file:\n",
        "```python\n",
        "file = open(name, “r”)\n",
        "```\n",
        "\n",
        "Đi qua từng dòng trong file:\n",
        "```python\n",
        "linelist = file.readlines()\n",
        "for line in linelist:\n",
        "    ...\n",
        "```\n",
        "Hoặc:\n",
        "```python\n",
        "file = open(name, \"r\")\n",
        "for line in file:\n",
        "    ...\n",
        "file.close()\n",
        "```\n",
        "\n",
        "Viết file:\n",
        "```python\n",
        "file = open(name, \"r\")\n",
        "file.write('nội dung cần viết')\n",
        "```\n"
      ],
      "metadata": {
        "id": "UeEirpDLjR5K"
      }
    },
    {
      "cell_type": "code",
      "execution_count": null,
      "metadata": {
        "id": "uyRWcI-FXPJM"
      },
      "outputs": [],
      "source": []
    }
  ]
}