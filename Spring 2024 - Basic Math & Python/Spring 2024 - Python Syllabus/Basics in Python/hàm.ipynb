{
  "nbformat": 4,
  "nbformat_minor": 0,
  "metadata": {
    "colab": {
      "provenance": []
    },
    "kernelspec": {
      "name": "python3",
      "display_name": "Python 3"
    },
    "language_info": {
      "name": "python"
    }
  },
  "cells": [
    {
      "cell_type": "markdown",
      "source": [
        "## 1/ Hàm (Function) trong Python"
      ],
      "metadata": {
        "id": "c2sjaGfTeZxD"
      }
    },
    {
      "cell_type": "markdown",
      "source": [
        "Lấy bài tập trong tuần 2 (Blackjack) vừa rồi làm ví dụ. Trong một ván Blackjack, sẽ có lúc người chơi, người chia bài, hay cả 2 người đều rút bài. Vì vậy, trong ván blackjack, chúng ta sẽ buộc phải lặp lại khối code quy định cho việc rút bài nhiều lần (bao gồm một dòng bỏ lá cuối cùng trong bộ bài, và một dòng thêm lá bài đó vào tay người chơi).\n",
        "\n",
        "Trong những chương trình phức tạp, sẽ không tránh khỏi việc một số những phép tính hay những thuật toán sẽ phải dùng lặp lại nhiều lần với mỗi phép tính có thể lên đến hàng chục dòng code để thực hiện.\n",
        "\n",
        "Vì thế nên Hàm (Function) trong Python ra đời. Hàm trong Python cho phép chúng ta cô đọng cả một phép tính hay thuật toán đấy thành một dòng, để khi chúng ta thực hiện phép tính đấy nhiều lần, thay vì chúng ta phải code lại cả một khối dòng đó (và thay đổi input của phép tính đó), ta chỉ cần phải gọi tên hàm ra và đưa input mong muốn vào để được kết quả ta cần."
      ],
      "metadata": {
        "id": "tbu5ulVWeqHs"
      }
    },
    {
      "cell_type": "markdown",
      "source": [
        "Một Function trong Python được viết có cú pháp như sau (lưu ý dấu ```:``` và thụt lề):\n",
        "```python\n",
        "def ten_ham(input_1, input_2, ..., input_n):\n",
        "    phep_tinh_1\n",
        "    phep_tinh_2\n",
        "    ...\n",
        "    phep_tinh_n\n",
        "\n",
        "    return ket_qua\n",
        "```\n",
        "\n",
        "Khi khởi tạo cho một hàm, ta bắt đầu bằng chữ ```def``` và sau đó là tên hàm. Chữ ```def``` có thể hiểu như báo hiệu cho Python rằng đây sẽ là một hàm với tên được khởi tạo.\n",
        "\n",
        "Các input cho một hàm thường được gọi là ```parameter```. Trong ví dụ này thì các ```parameter``` của chúng ta sẽ là các ```input_1```, ```input_2```, ..., ```input_n```. Một hàm có thể có hàng chục hàng trăm parameter, hoặc không có parameter.\n",
        "\n",
        "Vì sao một hàm cần ```parameter```? Ta có thể tưởng tượng một hàm sinh ra sẽ tách biệt hoàn toàn với chương trình, nghĩa là nó không có thông tin các biến của chương trình đang chạy, và các ```parameter``` là một phương pháp để ta đưa các thông tin bên ngoài vào hàm.\n",
        "Ví dụ, ta làm một hàm lấy input là một số và trả ra số đó với giá trị nhân đôi:\n",
        "```python\n",
        "# Hàm nhân đôi một giá trị\n",
        "def nhan_doi(so_can_nhan_doi):\n",
        "    ket_qua = so_can_nhan_doi * 2\n",
        "    return ket_qua\n",
        "\n",
        "# Các giá trị cần nhân đôi:\n",
        "a = 10\n",
        "b = 20\n",
        "c = 5\n",
        "\n",
        "# Ta có thể thấy là các số a, b, c là các số nằm trong chương trình cần chạy.\n",
        "# Bên trong function thì các biến có tên là so_can_nhan_doi và ket_qua.\n",
        "# Vì vậy để chúng ta cho hàm hiểu được là ta cần nhân đôi a, b, c\n",
        "# nói cách khác, cho hàm biết biến so_can_nhan_doi sẽ bằng a, b hay c, ta gọi hàm như sau:\n",
        "\n",
        "a_nhan_doi = nhan_doi(so_can_nhan_doi=a)\n",
        "b_nhan_doi = nhan_doi(so_can_nhan_doi=b)\n",
        "c_nhan_doi = nhan_doi(so_can_nhan_doi=c)\n",
        "\n",
        "```\n",
        "\n",
        "Các phép tính trong hàm và dữ liệu mà các ```parameter``` chứa sẽ tách biệt hoàn toàn với chương trình và không thể lấy ra. Vì thế, để truy xuất thông tin về dữ liệu và phép tính trong hàm, ta cần phải cho hàm đó trả những dữ liệu đó ra bằng dòng lệnh ```return```.\n",
        "\n",
        "Trong ví dụ trên, nếu ta không để ```return ket_qua```, hàm sẽ tự trả ra None, và các biến ```a_nhan_doi```, ```b_nhan_doi```, ```c_nhan_doi``` sẽ có giá trị None thay vì có các giá trị 20, 40, 10 như mong muốn."
      ],
      "metadata": {
        "id": "PHGxSy3ZiciU"
      }
    },
    {
      "cell_type": "markdown",
      "source": [
        "NHỮNG LƯU Ý VỀ FUNCTION TRONG PYTHON:\n",
        "\n",
        "Python là một ngôn ngữ không cứng nhắc, vì vậy nên sẽ có những tính chất ở trên chỉ đúng một nửa. Cho nên chúng ta cần theo một số quy tắc nhất định để tránh việc khi code, Python sẽ chạy không đúng theo logic mà ta mong muốn. Ngoài ra, chính Python cũng có một số quy tắc của chính nó\n",
        "\n",
        "#### 1: Hàm thực ra vẫn có thể truy xuất dữ liệu từ chương trình khi nó được khai báo trong chính chương trình đó (trong cùng một file .py hay .ipynb).\n",
        "\n",
        "Ví dụ: cho một hàm cộng 2 số a và b:\n",
        "```python\n",
        "a = 10\n",
        "\n",
        "def plus(b):\n",
        "    return a + b\n",
        "\n",
        "plus(b=10)\n",
        ">>>>> 20\n",
        "```\n",
        "Ta có thể thấy giá trị a nằm trong chương trình và nằm ngoài hàm ```plus(b)```. Tuy nhiên khi ta để hàm chỉ lấy input là ```b``` mà không quy định số ```a```, hàm vẫn có thể trả ra kết quả 20.\n",
        "\n",
        "Vì vậy, ta cần phải lưu ý 2 điều:\n",
        "+ Thứ nhất: luôn khai báo đầy đủ các input parameter cho hàm và nên đặt tên parameter tách biệt so với chương trình để tránh trường hợp hàm sử dụng những dữ liệu không mong muốn\n",
        "+ Thứ hai: có thể viết hàm theo ví dụ như trên, nhưng chỉ nên dùng khi a là một hằng số.\n",
        "\n",
        "#### 2: Có thể khai báo input cho hàm mà không cần gọi tên parameter, có thể đặt mặc định parameter cho một hàm, và có thể kết hợp không gọi và gọi tên parameter\n",
        "\n",
        "Để cho dễ hiểu, ta cho một ví dụ: một hàm tính tổng 4 số a, b, c và d:\n",
        "```python\n",
        "def plus(a, b, c=0, d=0):\n",
        "    return a + b + c + d\n",
        "\n",
        "plus(10, 20, 30, 40)\n",
        ">>>>> 100\n",
        "plus(10, b=20, c=30, d=40)\n",
        ">>>>> 100\n",
        "plus(10, 20)\n",
        ">>>>> 30\n",
        "plus(10, 20, 30)\n",
        ">>>>> 60\n",
        "plus(10, 20, d=40)\n",
        ">>>>> 70\n",
        "plus(a=10, b=20, d=40, c=30)\n",
        ">>>>> 100\n",
        "```\n",
        "Ở đây, ta đặt hàm plus lấy 4 input parameter, trong đó c và d mặc định giá trị là 0\n",
        "Ta có 6 ví dụ:\n",
        "+ Ví dụ 1: ta có gọi hàm bằng cách cho trực tiếp giá trị parameter mà không cần gọi tên parameter theo kiểu ```plus(a=10, b=20, c=30, d=40)```. Trong Python, khi ta gọi hàm như thế, Python sẽ hiểu và gán giá trị tương ứng với thứ tự các parameter khi ta khởi tạo hàm\n",
        "+ Ví dụ 2: ta có thể gọi hàm theo kiểu cho trực tiếp giá trị parameter a và gọi tên parameter tương ứng rồi cho giá trị sau ```b=20, c=30, d=40```. Tuy nhiên, bắt buộc là khi đã gọi tên parameter tương ứng thì các parameter sau cũng phải gọi tên\n",
        "+ Ví dụ 3: vì c và d có giá trị mặc định là 0, nếu ta không gán giá trị cho c và d thì hàm sẽ tự động dùng giá trị mặc định\n",
        "+ Ví dụ 4: tương tự là d có giá trị mặc định là 0, và ta gọi hàm ```plus(10, 20, 30)``` có nghĩa là ta đặt lần lượt a=10, b=20, và c=30. Ở đây Python sẽ tự động gán giá trị vào các parameter a, b, c theo thứ tự là 10, 20 và 30\n",
        "+ Ví dụ 5: vì c và d có giá trị mặt định là 0, nếu ta không cần dùng đến parameter c mà cần gán giá trị cho parameter d, ta có quyền gọi a và b, không gọi c, và trực tiếp gọi d.\n",
        "+ Ví dụ 6: khi khai báo trực tiếp các giá trị parameter bằng tên, ta có thể không cần quan tâm đến thứ tự (trái với ví dụ 1)\n",
        "\n",
        "Ta rút ra 2 lưu ý cần nhớ:\n",
        "+ Vì Python cho phép gán giá trị parameter theo thứ tự, ta cần ghi nhớ những parameter theo thứ tự là gì để gán giá trị cho chuẩn\n",
        "+ Ta có thể tận dụng các giá trị mặc định để có thể làm tránh việc lúc gọi hàm lúc nào cũng phải gọi đủ bộ parameter. Tuy nhiên ta BẮT BUỘC:\n",
        "  * phải gán giá trị vào các parameter không có mặc định\n",
        "  * khi đã gán giá trị bằng tên parameter (ví dụ ```a=10```) thì các parameter sau bắt buộc phải gọi bằng tên rồi mới gán giá trị (các parameter b, c, d sau đó bắt buộc phải ```b=20, c=30, d=40```\n",
        "  * khi gán giá trị bằng tên parameter, ta có thể không cần quan tâm đến thứ tự parameter đã khai báo\n",
        "\n",
        "#### 3: Hàm có thể ```return``` thẳng một phép tính, hoặc hàm có thể không cần ```return```\n",
        "\n",
        "+ Qua 2 ví dụ đầu, ta có thể thấy ta có thể trả trực tiếp một phép tính trong dòng ```return``` mà không qua một biến trung gian\n",
        "+ Hàm không cần return có thể ví dụ như hàm in ra giá trị bài trên tay của người chơi trong bài tập vừa rồi, hàm chỉ có tác dụng in ra một cái gì đó chứ không cần return một giá trị cụ thể"
      ],
      "metadata": {
        "id": "MJxowXwtmcI7"
      }
    },
    {
      "cell_type": "markdown",
      "source": [
        "### Hàm Lambda (Lambda Function)"
      ],
      "metadata": {
        "id": "ddSVb3J2ekkY"
      }
    },
    {
      "cell_type": "markdown",
      "source": [
        "Hàm Lambda là một cú pháp viết hàm đặc biệt không qua cú pháp ```def``` thường thấy. Hàm Lambda thường sẽ hữu dụng trong việc cần thực hiện các thao tác sắp xếp (sort) hay lọc (filter) và thực hiện trên một list hay một cấu trúc dữ liệu. Tuy nhiên thì hàm lambda vẫn có thể làm nhiều việc khác chứ không chỉ giới hạn ở những trường hợp trên.\n",
        "\n",
        "Cú pháp của một hàm ```lambda``` (lưu ý dấu ```:```):\n",
        "```python\n",
        "# Hàm lambda cộng 10 vào một input\n",
        "plus_10 = lambda x: x+10\n",
        "plus_10(100)\n",
        ">>>>> 110\n",
        "\n",
        "# Hàm lambda tính tổng 2 số\n",
        "plus_ab = lambda a, b: a+b\n",
        "plus_ab(10, 12)\n",
        ">>>>> 22\n",
        "\n",
        "# Một hàm lamba nâng cao, tính tổng a và b nếu b < 10 không thì tính tích a*b\n",
        "compute_ab = lambda a, b: a+b if b <= 10 else a*b\n",
        "compute_ab(10, 12)\n",
        ">>>>> 120\n",
        "\n",
        "# Một hàm lamba nâng cao, tính tổng a và b nếu b <= 10 không thì tính tích a*b nhưng đặt mặc định một parameter\n",
        "compute_ab = lambda a, b=10: a+b if b <= 10 else a*b\n",
        "compute_ab(10)\n",
        ">>>>> 20\n",
        "```\n",
        "\n",
        "Ta có thể rút ra những điều sau:\n",
        "+ Ta có thể khai báo hàm ```lambda``` như một biến bình thường theo cú pháp ``` tên biến = hàm lambda```\n",
        "+ Cú pháp hàm lambda bắt đầu bằng chữ ```lambda```. Chữ ```lambda``` này có nghĩa là chuẩn bị lấy những giá trị đằng sau làm input parameter của hàm\n",
        "+ Sau chữ lambda sẽ là tên các parameter, viết cách nhau bằng dấu ```,```. Cũng như hàm thường, ta có thể đặt nhiều biến cũng như đặt giá trị mặc định cho các biến. Sau khi đặt tên các parameter thì ta kết thúc bằng dấu ```:```, tương tự như hàm thường, báo hiệu đằng sau dấu ```:``` là phép tính\n",
        "+ Sau dấu ```:``` là các phép tính, ta có thể thấy trong ví dụ là ta có thể dùng cả những câu điều kiện if-else, hay nâng cao hơn là các for loop.\n",
        "\n",
        "Hàm ```lambda``` tạo ra sự thuận tiện trong việc viết cô đọng hàm trên một dòng, hay lồng hàm trong hàm (ở ví dụ tiếp theo). Tuy nhiên không khuyến khích lạm dùng hàm ```lambda``` vì cú pháp bắt buộc phải viết toàn bộ trên một dòng.\n",
        "\n",
        "Một ví dụ của ứng dụng của hàm lambda: cho một list 2 chiều, ta lọc ra các phần tử có value_1 chia hết cho 2 và có độ dài sub_list từ 3 trở lên\n",
        "```python\n",
        "# Khởi tạo list:\n",
        "list_a = [[1 , [1, 2, 3, 4]], [2 , [2, 3]], [3 , [3, 4, 1]], [4 , [1, 2, 3, 5]], [5 , [1]], [6 , [1, 3, 4]]]\n",
        "\n",
        "# Dùng hàm filter để lọc các phần tử trong list_a\n",
        "list(filter(lambda element: (element[0] % 2 == 0) & (len(element[1]) >= 3), list_a))\n",
        ">>>>> [[4, [1, 2, 3, 5]], [6, [1, 3, 4]]]\n",
        "```\n",
        "Vì ta có nhiều điều kiện cần lọc, ta có thể dùng hàm lambda để tạo ra một danh sách các điều kiện lọc. Ở đây, ```element``` là các list nhỏ 2 chiều trong list_a, và ```element[0]```, ```element[1]``` là các phần tử trong các list nhỏ đó. Ở đây, hàm ```filter``` của Python trả ra một object ```filter```, vì thế nên ta cần đổi nó về dạng list (ta sẽ học về object và class ở phần tiếp theo).\n",
        "\n",
        "Một ví dụ 2 của hàm lambda, ta sắp xếp một dictionary lại để các value theo thứ tự giảm dần:\n",
        "\n",
        "```python\n",
        "# Khởi tạo dict:\n",
        "dict_a = {1: 'a', 3: 'c', 2: 'b', 10: 'k', 4 : 'd', 5 : 'e', 7 : 'g', 6 : 'f', 9 : 'j', 8 : 'h'}\n",
        "\n",
        "# Thực hiện sort:\n",
        "dict(sorted(dict_a.items(), key=lambda item: item[1], reverse=True))\n",
        ">>>>> {10: 'k',\n",
        " 9: 'j',\n",
        " 8: 'h',\n",
        " 7: 'g',\n",
        " 6: 'f',\n",
        " 5: 'e',\n",
        " 4: 'd',\n",
        " 3: 'c',\n",
        " 2: 'b',\n",
        " 1: 'a'}\n",
        "```\n",
        "Ở ví dụ này, ta dùng hàm sorted, với input là dict_a.items() để đổi dict về dạng list([key, value]) để sorted có thể truy cập thông tin key và value. Sau đó ta dùng hàm ```lambda``` để đi qua các item ở parameter ```key``` và lấy ```item[1]``` nghĩa là lấy các value để sort. Sau cùng, ở parameter ```reverse``` của hàm sorted, ta để ```True``` để sắp xếp theo thứ tự giảm dần. Vì sorted trả ra list (vì input là list([key, value]) từ ```dict_a.items()```), ta để ```dict(sorted(...))``` để chuyển ngược về dạng dict."
      ],
      "metadata": {
        "id": "4tJ3bgBZwzdD"
      }
    }
  ]
}