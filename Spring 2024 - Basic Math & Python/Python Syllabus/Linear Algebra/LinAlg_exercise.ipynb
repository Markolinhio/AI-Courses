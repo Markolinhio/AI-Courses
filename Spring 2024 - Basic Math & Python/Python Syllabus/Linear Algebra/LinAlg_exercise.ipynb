{
  "cells": [
    {
      "cell_type": "code",
      "execution_count": 2,
      "metadata": {
        "id": "dY3zjfgQ3dfZ"
      },
      "outputs": [],
      "source": [
        "import math\n",
        "import numpy as np\n",
        "import cv2"
      ]
    },
    {
      "cell_type": "markdown",
      "metadata": {
        "id": "2y0T2jLz3dfa"
      },
      "source": [
        "Đây là bài tập cho phần đại số tuyến tính.\n",
        "\n",
        "Bài tập này sẽ tập trung vào các thao tác ma trận cơ bản sử dụng cơ sở dữ liệu python thường và library numpy trong python.\n",
        "\n",
        "Trong bài tập này, học sinh có nhiệm vụ hoàn thành các bài làm được miêu tả ở mục ''TODO''. Phần code sẽ được điền vào bên dưới phần mô tả. Sau đó, hãy đánh dấu ''#'' ở đầu dòng ''raise NotImplementedError'' để báo hiệu hoàn thành.  \n",
        "\n",
        "Tất cả các thư viện cần dùng trong bài tập đã được thêm sẵn, học sinh không cần phải dùng các thư viện ngoài"
      ]
    },
    {
      "cell_type": "markdown",
      "source": [
        "## 1. Các thao tác ma trận bằng cơ sở dữ liệu list của Python"
      ],
      "metadata": {
        "id": "RK43qtLX6C8D"
      }
    },
    {
      "cell_type": "markdown",
      "source": [
        "Trong Python, list có thể được tính là một vector $1 \\times m$ với m là số phần tử. Ví dụ, vector $$\\begin{bmatrix}1 & 2 & 3 & 4 \\end{bmatrix}$$ có thể quy định bằng ngôn ngữ Python: $$\\begin{bmatrix}1, & 2, & 3, & 4  \\end{bmatrix}$$  \n",
        "\n",
        "Tương tự, một ma trận trong Python có thể được bỉêu diễn bằng một list chứa nhiều các list khác (list 2 chiều), với các list con là một hàng trong ma trận. Ví dụ, ma trận $$\\begin{bmatrix}1 & 2 & 3 & 4 \\\\ 5 & 6 & 7 & 8 \\\\ 9 & 10 & 11 & 12 \\\\ 13 & 14 & 15 & 16 \\end{bmatrix}$$\n",
        "có thể được viết dưới dạng 1 list chứa nhiều list con:\n",
        "$$[[1, 2, 3, 4], \\, [5, 6, 7, 8], \\, [9, 10, 11, 12], \\, [13, 14, 15, 6]]$$"
      ],
      "metadata": {
        "id": "GS-OmUph6LIK"
      }
    },
    {
      "cell_type": "markdown",
      "source": [
        "### a. Thực hiện các yêu cầu sau:  \n",
        "+ Tạo 2 vector $ a = \\begin{bmatrix}1 & 2 & 3 & 4 \\end{bmatrix}$ và $b = \\begin{bmatrix}5 & 6 & 7 & 8 \\end{bmatrix}$\n",
        "+ Tổng ''c'' của 2 vector, sử dụng công thức $a + b = \\sum^m_i(a_i + b_i)$ với i là vị trí các phần tử của 2 vector  \n",
        "+ Tích phần tử  ''d'' vector, sử dụng công thức $a \\times b = \\sum^m_i(a_i \\times b_i)$ với i là vị trí các phần tử của 2 vector    "
      ],
      "metadata": {
        "id": "ixs78-11A9rT"
      }
    },
    {
      "cell_type": "code",
      "source": [
        "### TODO: Tạo 2 vector a và b tương ứng, thay các giá trị None bằng vector tương ứng\n",
        "a = None\n",
        "b = None\n",
        "\n",
        "### TODO: Cộng 2 vector với nhau, cho vector c (sử dụng for loop của Python)\n",
        "\n",
        "c = None\n",
        "\n",
        "### TODO: Nhân phần tử  2 vector với nhau (sử dụng for loop của Python)\n",
        "\n",
        "d = None"
      ],
      "metadata": {
        "id": "7gZcV1mmA867"
      },
      "execution_count": null,
      "outputs": []
    },
    {
      "cell_type": "markdown",
      "source": [
        "### a. Thực hiện các yêu cầu sau:  \n",
        "+ Tạo 2 ma trận $$A = \\begin{bmatrix}1 & 2 & 3 & 4 \\\\ 5 & 6 & 7 & 8 \\end{bmatrix}$$  và $$ B = \\begin{bmatrix}9 & 10 & 11 & 12 \\\\ 13 & 14 & 15 & 16  \\end{bmatrix}$$\n",
        "+ Tổng ''C'' của 2 ma trận, sử dụng công thức $(A+B)_{ij} = A_{ij} + B_{ij}$ với i, j là vị trí các phần tử của 2 ma trận  \n",
        "+ Tích phần tử  ''D'' của 2 ma trận, sử dụng công thức $(A \\times B)_{ij} = A_{ij} \\times B_{ij}$ với i, j là vị trí các phần tử của 2 ma trận   "
      ],
      "metadata": {
        "id": "PBcWnLnGCvrY"
      }
    },
    {
      "cell_type": "code",
      "source": [
        "### TODO: Tạo 2 ma trận A và B tương ứng, thay các giá trị None bằng ma trận tương ứng\n",
        "A = None\n",
        "B = None\n",
        "\n",
        "### TODO: Cộng 2 ma trận với nhau, cho ma trận C (sử dụng for loop của Python)\n",
        "\n",
        "C = None\n",
        "\n",
        "### TODO: Nhân phần tử  2 ma trận với nhau (sử dụng for loop của Python)\n",
        "\n",
        "D = None"
      ],
      "metadata": {
        "id": "OhQDNb_VCtZQ"
      },
      "execution_count": null,
      "outputs": []
    },
    {
      "cell_type": "markdown",
      "source": [
        "## 2. Thao tác vector và ma trận sử dụng thư viện NumPy"
      ],
      "metadata": {
        "id": "YxAXx-RLDrfK"
      }
    },
    {
      "cell_type": "markdown",
      "source": [
        "Chúng ta có thể thấy ở bài 1, để thực hiện các thao tác cộng trừ phần tử các ma trận khi sử dụng cơ sở dữ liệu list của Python, chúng ta phải sử dụng các vòng for loop và nhiều thao tác phức tạp khác. Vì thế, khi tính toán các phép tính trên vector và ma trận phức tạp, chúng ta có thể sử dụng sự trợ giúp của thử viện NumPy.\n",
        "\n",
        "Chúng ta có thể xem một vector hay ma trận NumPy (nparray hay ndarray) nhưng là một dạng list đặc biệt, có nghĩa là, chúng ta có thể khởi tạo một ma trận NumPy bằng cách khởi tạo một list và biến đổi thành dạng ndarray.  \n",
        "\n",
        "Ví dụ: để khởi tạo ma trận $$A = \\begin{bmatrix}1 & 2 & 3 & 4 \\\\ 5 & 6 & 7 & 8 \\end{bmatrix}$$, đầu tiên ta khởi tạo list: $$A = [[1, 2, 3, 4], \\, [5, 6, 7, 8]]$$, sau đó ta biến đổi list A về dạng ndarray: $$A = np.array(A)$$. Hoặc, ta có thể quy định thẳng: $$A = np.array([[1, 2, 3, 4], \\, [5, 6, 7, 8]])$$. Lúc này Python sẽ hiểu là ta quy định trước một list và biến đổi về dạng ndarray sau."
      ],
      "metadata": {
        "id": "8U5iI8PYDyd5"
      }
    },
    {
      "cell_type": "markdown",
      "source": [
        "## a. Khởi tạo các vector và ma trận sau bằng NumPy:  \n",
        "+ $a = \\begin{bmatrix}1 & 2 & 3 & 4\\end{bmatrix}$  \n",
        "+ $b = \\begin{bmatrix}5 & 6 & 7 & 8\\end{bmatrix}$  \n",
        "+ $A = \\begin{bmatrix}1 & 2 & 3 & 4 \\\\ 5 & 6 & 7 & 8 \\end{bmatrix} $  \n",
        "+ $B = \\begin{bmatrix}9 & 10 & 11 & 12 \\\\ 13 & 14 & 15 & 16  \\end{bmatrix}$"
      ],
      "metadata": {
        "id": "0v4cnfXzGUtA"
      }
    },
    {
      "cell_type": "code",
      "source": [
        "### TODO: Tạo các vector a, b, và ma trận A, B tương ứng sử dụng NumPy\n",
        "### Thay thế giá trị None bằng các giá trị tương ứng\n",
        "a = None\n",
        "b = None\n",
        "A = None\n",
        "B = None"
      ],
      "metadata": {
        "id": "GOVAm6Y2Gxnc"
      },
      "execution_count": null,
      "outputs": []
    },
    {
      "cell_type": "markdown",
      "source": [
        "### b. Thức hiện các phép tính sử dụng thư viện NumPy:  \n",
        "+ Tổng ''c'' của vector a và b  \n",
        "+ Tích phần tử  ''d'' của vector a và b  \n",
        "+ Tích ''e'' của vector a và b, nhận xét mối quan hệ giữa tích ''e'' và các phần tử của tích ''d''  \n",
        "+ Chuyển vị bT của vector b  \n",
        "+ Tích ''f'' của vector a và vector chuyển vị bT, nhận xét mối quan hệ giữa tích ''f'' và tích ''e''"
      ],
      "metadata": {
        "id": "cy1PmML8G-i1"
      }
    },
    {
      "cell_type": "code",
      "source": [
        "### TODO: Tính tổng ''c'' của vector a và b\n",
        "### Hint: Với thư viện NumPy\n",
        "### phép cộng có thể được thực hiện bằng cách sử dụng dấu ''+''\n",
        "c = np.array([1, 2, 3, 4])\n",
        "print('Tổng c của vector a và b', c)\n",
        "\n",
        "### TODO: Tích phần tử ''d'' của vector a và b\n",
        "### Hint: Với thư viện NumPy, tích phần tử có thể được thực hiện bằng 2 cách:\n",
        "### Cách 1: sử dụng dấu ''*'' như nhân 2 số\n",
        "### Lưu ý: dấu * chỉ có nghĩa là tích phần tử, không dùng thay cho tích thường\n",
        "### Cách 2: sử dụng hàm: np.multiply(ndarray_1, nd_array2)\n",
        "d = np.array([5, 6, 7, 8])\n",
        "print('Tích phần tử  d của vector a và b', d)\n",
        "\n",
        "### TODO: Tích ''e'' của vector a và b\n",
        "### Hint: Với thư viện NumPy, tích giữa 2 vector hay ma trận có thể được thực hiện bằng 2 cách:\n",
        "### Cách 1: sử dụng dấu ''@''\n",
        "### Cách 2: sử dụng hàm: np.matmul(ndarray_1, ndarray_2)\n",
        "e = np.array([[1, 2, 3, 4], [5, 6, 7, 8]])\n",
        "print('Tích e của vector a và b', e)\n",
        "\n",
        "### TODO: Chuyển vị ''bT'' của vector b\n",
        "### Hint: Với thư viện NumPy, tính chuyển vị của vector b bằng cách:\n",
        "### Sử dụng hàm: np.transpose(ndarray_1) hoặc ndarray_1.T\n",
        "bT = None\n",
        "print('Chuyển vị bT của vector b', bT)\n",
        "\n",
        "### TODO: Tích ''e'' của vector a và b\n",
        "### Hint: Với thư viện NumPy, tích giữa 2 vector hay ma trận có thể được thực hiện bằng 2 cách:\n",
        "### Cách 1: sử dụng dấu ''@''\n",
        "### Cách 2: sử dụng hàm: np.matmul(ndarray_1, ndarray_2)\n",
        "f = None\n",
        "print('Tích e của vector a và b', f)"
      ],
      "metadata": {
        "id": "92lzfqNdNDiM"
      },
      "execution_count": null,
      "outputs": []
    },
    {
      "cell_type": "markdown",
      "source": [
        "Như ta có thể thấy, tích ''e'' là tổng các phần tử của tích ''d'', trong khi khi\n",
        "\n",
        "Trong NumPy, có những dạng ''ma trận hàng'' hay ''ma trận cột'' đặc biệt, đó là khi một vector 1 chiều có thể được viết thành một ma trận 2 chiều sử dụng hàm reshape.  \n",
        "\n",
        "Ví dụ:  \n",
        "Cho vector $a = \\begin{bmatrix}1, & 2, & 3, & 4,\\end{bmatrix}$  \n",
        "Khi thực hiện $a.reshape(-1, 1)$, ta biến đổi vector a thành một ma trận $a_{41} = \\begin{bmatrix}[1], \\\\ [2], \\\\ [3], \\\\ [4]\\end{bmatrix}$  \n",
        "\n",
        "Ngược lại, khi thực hiện $a.reshape(1, -1)$, ta biến đổi vector a thành một ma trận $a_{14} = \\begin{bmatrix}[1, & 2, & 3, & 4] \\end{bmatrix}$  \n",
        "\n",
        "Nói cách khác, $a.reshape(-1, 1) = np.transpose(a.reshape(1, -1))$\n",
        "\n",
        "Hàm reshape quan trọng, vì thông thường, tích 2 vector $a_{m1}$ và b_{1n}, ta sẽ được một ma trận $A_{mn}$. Tuy nhiên, nếu đơn giản chỉ chuyển vị vector b thành $b^T$ và tính $a \\times b^T$ bằng hàm np.matmul, ta sẽ chỉ được kết quả giống như tính np.matmul(a, b), nghĩa là tổng của tích các phần tử a và b.  \n",
        "\n",
        "Điều này xảy ra là vì khi tính chuyển vị của một vector 1 chiều, thư viện NumPy chỉ trả lại một vector một chiều khác. Nói cách khác, $a = \\begin{bmatrix}1, & 2, & 3, & 4,\\end{bmatrix} = a^T$.  \n",
        "\n",
        "Tuy nhiên, khi sử dụng hàm reshape, ta chuyển vector a thành vector 2 chiều. Khi đó, hàm chuyển vị của NumPy có thể hoạt động đúng, và khi đó $a_{m1} \\times b_{1n} = A_{mn}$."
      ],
      "metadata": {
        "id": "v9qtu3tpTE6G"
      }
    },
    {
      "cell_type": "code",
      "source": [
        "### TODO: Sử dụng hàm reshape, biến đổi vector a và b thành dạng vector 2 chiều\n",
        "### a_{1,4} và b_{4, 1}\n",
        "### Hint: Có thể dùng cả reshape và chuyển vị\n",
        "a = None\n",
        "b = None\n",
        "print('Vector a và b mới:', (a, b))\n",
        "\n",
        "### TODO: Chuyển vị ''bT'' của vector b\n",
        "### Hint: Với thư viện NumPy, tính chuyển vị của vector b bằng cách:\n",
        "### Sử dụng hàm: np.transpose(ndarray_1) hoặc ndarray_1.T\n",
        "bT = None\n",
        "print('Chuyển vị ''bT'' của vector b:', bT)\n",
        "\n",
        "### TODO: Tích ''g'' của vector a và b\n",
        "### Hint: Với thư viện NumPy, tích giữa 2 vector hay ma trận có thể được thực hiện bằng 2 cách:\n",
        "### Cách 1: sử dụng dấu ''@''\n",
        "### Cách 2: sử dụng hàm: np.matmul(ndarray_1, ndarray_2)\n",
        "g = None\n",
        "print('Tích g của vector a và b:', g)"
      ],
      "metadata": {
        "id": "7nSg1naHa-L8"
      },
      "execution_count": null,
      "outputs": []
    },
    {
      "cell_type": "markdown",
      "source": [
        "### c. Thực hiện các phép tính sử dụng thư viện NumPy:  \n",
        "+ Tổng ''C'' của ma trận A và B  \n",
        "+ Tích vô hướng ''D'' = $5 \\times A$\n",
        "+ Tích phần tử ''E'' của ma trận A và B   \n",
        "+ Tích ''Aa'' giữa ma trận A vector a (học sinh có thể thử tính tích vector a với ma trận A và nhận xét kết quả)  "
      ],
      "metadata": {
        "id": "ixv7EwKsND3A"
      }
    },
    {
      "cell_type": "code",
      "source": [
        "### TODO: Tính tổng ''C'' của ma trận A và B\n",
        "### Hint: Với thư viện NumPy\n",
        "### phép cộng có thể được thực hiện bằng cách sử dụng dấu ''+''\n",
        "C = None\n",
        "print('Tổng C của ma trận A và B', C)\n",
        "\n",
        "\n",
        "### TODO: Tích vô hướng D = 5A\n",
        "### Hint: Với thư viện NumPy, cũng giống như cách viết, ta có thể  nhân như nhân\n",
        "### 2 số với nhau sử dụng dấu ''*'':\n",
        "### Cách 1: sử dụng dấu ''*'' như nhân 2 số\n",
        "### Lưu ý: dấu * chỉ có nghĩa là tích phần tử và tích vô hướng, không dùng thay cho tích thường\n",
        "D = None\n",
        "print('Tích vô hướng D = 5A', D)\n",
        "\n",
        "### TODO: Tích phần tử ''E'' của ma trận A và B\n",
        "### Hint: Với thư viện NumPy, tích phần tử có thể được thực hiện bằng 2 cách:\n",
        "### Cách 1: sử dụng dấu ''*'' như nhân 2 số\n",
        "### Lưu ý: dấu * chỉ có nghĩa là tích phần tử và tích vô hướng, không dùng thay cho tích thường\n",
        "### Cách 2: sử dụng hàm: np.multiply(ndarray_1, nd_array2)\n",
        "E = None\n",
        "print('Tích phần tử  E của ma trận A và B', E)\n",
        "\n",
        "### TODO: Tích ''Aa'' giữa ma trận A và vector a\n",
        "### Hint: Với thư viện NumPy,\n",
        "### Tích giữa 2 vector hay ma trận có thể được sử dụng bằng hàm:\n",
        "### np.matmul(ndarray_1, ndarray_2)\n",
        "Aa = None\n",
        "print('Tích Aa giữa ma trận A và vector a', Aa)"
      ],
      "metadata": {
        "id": "pzgEanTMNo8G"
      },
      "execution_count": null,
      "outputs": []
    },
    {
      "cell_type": "markdown",
      "source": [
        "### d. Thực hiện các phép tính sử dụng thư viện NumPy:  \n",
        "+ Tính ma trận chuyển vị ''AT'' của ma trận A  \n",
        "+ Tích ''aAT'' của vector a với ma trận chuyển vị AT (học sinh một lần nữa có thể thử tính tích ma trận chuyển vị AT với vector a), nhận xét kết quả so với tích ma trận A với vector a  \n",
        "+ Tích ''F'' của ma trận chuyển vị AT và ma trận B  \n",
        "+ Tích ''G'' của ma trận B và ma trận chuyển vị AT, so sánh với F"
      ],
      "metadata": {
        "id": "qxQ3TtleNoml"
      }
    },
    {
      "cell_type": "code",
      "source": [
        "### TODO: Chuyển vị ''AT'' của ma trận A\n",
        "### Hint: Với thư viện NumPy, tính chuyển vị của vector b bằng cách:\n",
        "### Sử dụng hàm: np.transpose(ndarray_1) hoặc ndarray_1.T\n",
        "AT = None\n",
        "print('Tổng C của ma trận A và B', C)\n",
        "\n",
        "### TODO: Tích ''aAT'' giữa vector a và ma trận chuyển vị AT\n",
        "### Hint: Với thư viện NumPy,\n",
        "### Tích giữa 2 vector hay ma trận có thể được sử dụng bằng hàm:\n",
        "### np.matmul(ndarray_1, ndarray_2)\n",
        "Aa = None\n",
        "print('Tích Aa giữa ma trận A và vector a', Aa)\n",
        "\n",
        "### TODO: Tích ''F'' của ma trận chuyển vị AT và B\n",
        "### Hint: Với thư viện NumPy,\n",
        "### Hint: Với thư viện NumPy, tích giữa 2 vector hay ma trận có thể được thực hiện bằng 2 cách:\n",
        "### Cách 1: sử dụng dấu ''@''\n",
        "### Cách 2: sử dụng hàm: np.matmul(ndarray_1, ndarray_2)\n",
        "F = None\n",
        "print('Tích F của ma trận A và B', F)\n",
        "\n",
        "### TODO: Tích ''G'' của ma trận B và ma trận chuyển vị AT\n",
        "### Hint: Với thư viện NumPy,\n",
        "### Hint: Với thư viện NumPy, tích giữa 2 vector hay ma trận có thể được thực hiện bằng 2 cách:\n",
        "### Cách 1: sử dụng dấu ''@''\n",
        "### Cách 2: sử dụng hàm: np.matmul(ndarray_1, ndarray_2)\n",
        "G = None\n",
        "print('Tích G của ma trận A và B', G)"
      ],
      "metadata": {
        "id": "zLF6n8swP9_G"
      },
      "execution_count": null,
      "outputs": []
    },
    {
      "cell_type": "markdown",
      "source": [
        "e. Thực hiện các phép tính sử dụng thư viện NumPy:  \n",
        "+ Tạo ma trận $M = \\begin{bmatrix}1 & 2 & 3 & 4 \\\\ 5 & 6 & 7 & 8 \\\\ 9 & 10 & 11 & 12 \\\\ 13 & 14 & 15 & 16 \\end{bmatrix}$\n",
        "+ Nghịch đảo ''M_inv'' của ma trận M  \n",
        "+ Tích ''M_invM'' của ma trận A_inv và ma trận A, nhận xét kết quả  "
      ],
      "metadata": {
        "id": "OP3fK95lxzwX"
      }
    },
    {
      "cell_type": "code",
      "source": [
        "### TODO: Tạo ma trận M\n",
        "M = None\n",
        "\n",
        "### TODO: Ma trận nghịch đảo ''M_inv'' của ma trận M\n",
        "### Hint: Với thư viện NumPy, tính ma trận nghịch đảo bằng hàm:\n",
        "### np.linalg.inv(ndarray)\n",
        "M_inv = None\n",
        "print('TMa trận nghịch đảo M_inv của ma trận M', M_inv)\n",
        "\n",
        "### TODO: Tích ''M_invM'' giữa ma trận M_inv và ma trận M\n",
        "### Hint: Với thư viện NumPy, tích giữa 2 vector hay ma trận có thể được thực hiện bằng 2 cách:\n",
        "### Cách 1: sử dụng dấu ''@''\n",
        "### Cách 2: sử dụng hàm: np.matmul(ndarray_1, ndarray_2)\n",
        "F = None\n",
        "print('Tích F của ma trận A và B', F)"
      ],
      "metadata": {
        "id": "CxuKhivbx2F7"
      },
      "execution_count": null,
      "outputs": []
    },
    {
      "cell_type": "markdown",
      "source": [
        "## 3. Thao tác hàng cột trên ma trận NumPy"
      ],
      "metadata": {
        "id": "dr5TRSpiP_Ob"
      }
    },
    {
      "cell_type": "markdown",
      "source": [
        "Để trích xuất hàng, cột của ma trận NumPy, ta có thể dùng toạ độ như ở cơ sở dữ liệu list của Python. Tuy nhiên, thay vì ở dạng list, ta phải đi qua từng toạ độ hàng, rồi cột, ta có thể gộp thành một toạ độ hàng cột.  \n",
        "\n",
        "Ví dụ:  \n",
        "Cho ma trận $$A = \\begin{bmatrix}[1 & 2 & 3 & 4] \\\\ [5 & 6 & 7 & 8] \\end{bmatrix} $$\n",
        "Ở dạng list, để truy cập vào số  $7$ của ma trận, ta phải dùng cú pháp: $A[1][2]$, tức là truy cập list thứ 2, và sau đó truy cập phần tử thứ 3 của list.  \n",
        "Ở dạng NumPy, để truy cập vào số $7$ của ma trận, ta có thể dùng cú pháp như trên, hoặc $A[1, 2]$, tức là truy cập thẳng vào hàng 2 cột 3 của ndarray."
      ],
      "metadata": {
        "id": "pDPrOYnFyqJH"
      }
    },
    {
      "cell_type": "markdown",
      "source": [
        "Ngoài ra, thư viện NumPy còn cho phép chúng ta dễ dàng truy cập cả một hàng hoặc cột của một ma trận mà không cần sử dụng for loop.  \n",
        "\n",
        "Ví dụ với ma trận A ở trên:  \n",
        "+ Ta có thể truy cập cả hàng 2 bằng cú pháp: $A[1, :]$ (đánh dấu chỉ lấy hàng 2).  \n",
        "+ Ta có thể truy cập cả cột 2 bằng cú pháp: $A[:, 1]$ (đánh dấu chỉ lấy hàng 2)  \n",
        "Ngoài ra, ta có thể quy định lấy bao nhiêu của một hàng hoặc một cột.  \n",
        "Ví dụ:  \n",
        "+ Ta chỉ lấy số 2 và 3 ở hàng 1: $A[0, 1: 3]$ (đánh dấu lấy hàng 1, cột từ vị trí 2 đến vị trí 3)"
      ],
      "metadata": {
        "id": "4lpykL0PztvW"
      }
    },
    {
      "cell_type": "markdown",
      "source": [
        "### a. Thực hiện các phép tính sau bằng thư viện NumPy:  \n",
        "+ Khởi tạo ma trận $M = \\begin{bmatrix}1 & 2 & 3 & 4 \\\\ 5 & 6 & 7 & 8 \\\\ 9 & 10 & 11 & 12 \\\\ 13 & 14 & 15 & 16 \\end{bmatrix}$  \n",
        "+ Tính tích phần tử  'A' của cột 3 của ma trận M với ma trận M  \n",
        "+ Tính tích phần tử  'B' của cột 2 của ma trận M với ma trận M  \n",
        "+ Tính tích ''C'' của một ma trận mới tạo bằng 2 hàng giữa của ma trận M với ma trận M  \n",
        "+ Tính tích 'D' của ma trận M với một ma trận mới tạo bằng 3 cột đầu của ma trận M  \n",
        "+ Tính tích 'E' của ma trận mới tạo bằng hàng 4 và 1 (theo thứ tự hàng 4 và hàng 1) với ma trận M  "
      ],
      "metadata": {
        "id": "Y9f9hoZG0y57"
      }
    },
    {
      "cell_type": "code",
      "source": [
        "M = np.array([[1, 2, 3, 4], [5, 6, 7, 8], [9, 10, 11, 12], [13, 14, 15, 16]])\n",
        "np.matmul(M[0:2, :], M)"
      ],
      "metadata": {
        "colab": {
          "base_uri": "https://localhost:8080/"
        },
        "id": "PUOudEP4btKp",
        "outputId": "d683b633-78e3-49d9-f50e-9760039b39d1"
      },
      "execution_count": 8,
      "outputs": [
        {
          "output_type": "execute_result",
          "data": {
            "text/plain": [
              "array([[ 90, 100, 110, 120],\n",
              "       [202, 228, 254, 280]])"
            ]
          },
          "metadata": {},
          "execution_count": 8
        }
      ]
    },
    {
      "cell_type": "code",
      "source": [
        "### TODO: Tính tích phần tử  ''A'' của cột 3 của ma trận M với ma trận M\n",
        "A = None\n",
        "print('Tích phần tử  A của cột 3 của ma trận M với ma trận M', A)\n",
        "\n",
        "### TODO: Tính tích phần tử  ''B'' của cột 2 của ma trận M với ma trận M\n",
        "B = None\n",
        "print('Tích phần tử  B của cột 2 của ma trận M với ma trận M', B)\n",
        "\n",
        "### TODO: Tính tích ''C'' của một ma trận mới tạo bằng 2 hàng giữa của ma trận M với ma trận M\n",
        "C = None\n",
        "print('Tích C của một ma trận mới tạo bằng 2 hàng giữa của ma trận M với ma trận M', C)\n",
        "\n",
        "### TODO: Tính tích 'D' của ma trận M với một ma trận mới tạo bằng 3 cột đầu của ma trận M\n",
        "D = None\n",
        "print('Tích D của ma trận M với một ma trận mới tạo bằng 3 cột đầu của ma trận M', D)\n",
        "\n",
        "### TODO: Tính tích ''E'' của ma trận mới tạo bằng hàng 4 và 1 (theo thứ tự hàng 4 và hàng 1) với ma trận M\n",
        "E = None\n",
        "print('Tích D của ma trận mới tạo bằng hàng 4 và 1 (theo thứ tự hàng 4 và hàng 1) với ma trận M', E)"
      ],
      "metadata": {
        "id": "xnVHi0tJ_iUg"
      },
      "execution_count": null,
      "outputs": []
    },
    {
      "cell_type": "markdown",
      "source": [
        "## 4. (Bài tập thêm) Thực hiện phép toán Median Filter (Làm sắc nét) trên một ma trận hình ảnh"
      ],
      "metadata": {
        "id": "7jtJIowMyZ9D"
      }
    },
    {
      "cell_type": "markdown",
      "source": [
        "Median filter được xem là một trong những thủ thuật xử lý hình ảnh cơ bản.   \n",
        "Median filter có tác dụng làm sắc cạch các đường nét trong một hình ảnh.  \n",
        "\n",
        "Thuật toán Median filter có thể được diễn giải như sau:  \n",
        "Cho một ma trận nhỏ (thường gọi là kernel) trượt qua hình. Ví dụ, cho kernel có kích thước $3 \\times 3$, kernel sẽ trượt qua hình từng khung $3 \\times 3$ một lần, bắt đầu tính toán từ các vị trí: $\\begin{bmatrix}(1, 1) & (1, 2) & (1, 3) \\\\ (2, 1) & (2, 2) & (2, 3) \\\\ (3, 1) & (3, 2) & (3, 3) \\end{bmatrix}$ của ma trận và sẽ dịch sang trái từng đơn vị một đến hết chiều ngang, rồi xuống một đơn vị và trượt tiếp. Lặp lại phép tính đó ở vị trí cuối: $\\begin{bmatrix}(m-2, n-2) & (m-2, n-1) & (m-2, n) \\\\ (m-1, n-2) & (m-1, n-1) & (m-1, n) \\\\ (m, n-2) & (m, n-1) & (m, n) \\end{bmatrix}$.  \n",
        "  \n",
        "Ở mỗi lượt mà kernel đi qua, kernel sẽ thay thế giá trị pixel ở giữa kernel (vị trí [1, 1] của kernel bằng trung vị của tất các các giá trị trong kernel)."
      ],
      "metadata": {
        "id": "97bV2MXYeHJV"
      }
    },
    {
      "cell_type": "markdown",
      "source": [
        "Ví dụ đơn giản của median filter:\n",
        "https://commons.wikimedia.org/wiki/File:Median_filter_2D.gif\n"
      ],
      "metadata": {
        "id": "yQ4ql6gIi-vG"
      }
    },
    {
      "cell_type": "code",
      "source": [
        "import cv2\n",
        "import matplotlib.pyplot as plt\n",
        "\n",
        "# Tải hình ảnh\n",
        "image = cv2.imread('Lenna_(test_image).png', cv2.IMREAD_GRAYSCALE)\n",
        "image = cv2.resize(image, (128, 128))\n",
        "image = cv2.GaussianBlur(image,(5,5),cv2.BORDER_DEFAULT)\n",
        "plt.figure()\n",
        "plt.imshow(image, 'gray')\n",
        "plt.title('Hình gốc')"
      ],
      "metadata": {
        "colab": {
          "base_uri": "https://localhost:8080/",
          "height": 471
        },
        "id": "Sjms5pOYeaoU",
        "outputId": "a37dd85b-05f6-48f4-db48-f8c53dee37e8"
      },
      "execution_count": 45,
      "outputs": [
        {
          "output_type": "execute_result",
          "data": {
            "text/plain": [
              "Text(0.5, 1.0, 'Hình gốc')"
            ]
          },
          "metadata": {},
          "execution_count": 45
        },
        {
          "output_type": "display_data",
          "data": {
            "text/plain": [
              "<Figure size 640x480 with 1 Axes>"
            ],
            "image/png": "[encoded data removed]"
          },
          "metadata": {}
        }
      ]
    },
    {
      "cell_type": "code",
      "source": [
        "# Đầu tiên, xác định kích thước kernel, ở bài tập này là 3x3\n",
        "kernel_size = 3\n",
        "\n",
        "### TODO: Thực hiện median filter bằng for loop với hình ảnh ở trên:\n",
        "\n",
        "### Hint 1: ta cần dùng 2 for loop, một cái đi qua các toạ độ theo chiều ngang,\n",
        "### và một cái đi qua các toạ độ theo chiều dọc\n",
        "\n",
        "### Hint 2: vì tính chất ''chỉ thay thế giá trị ngay giữa'' của Median Filter, giá\n",
        "### trị pixel ở các cạnh ngoài cùng sẽ không cần phải đi qua bằng for loop\n",
        "### Nghĩa là ta có thể bắt đầu for loop và kết thúc for loop từ vị trí thứ 2 đến vị trí thứ n-1\n",
        "\n",
        "### Hint 3: Vì kernel có size 3x3, ta phải tính toán làm sao kernel trượt trên các\n",
        "### toạ độ của hình sẽ không bị chạy vượt quá kích thước của hình ở các chiều ngang và dọc\n",
        "\n",
        "### Hint 4: Để tính median của một ma trận NumPy, ta có thể dùng hàm:\n",
        "### np.median(ndarray)\n",
        "\n",
        "### Hint 5: Để thay thế một giá trị tại toạ độ (i, j) của một ma trận NumPy, ta\n",
        "### có thể làm như sau: Ma_tran[i, j] = giá_trị_cần_thay\n",
        "\n",
        "median_image = image.copy() ### TODO: Thực hiện median filter với hình ảnh này\n",
        "\n",
        "### Điền code vào đây:\n",
        "for ...: # Đi qua các vị trí theo chiều ngang\n",
        "    for ...: # Đi qua các vị trí theo chiều dọc\n",
        "        # Lấy ra một ô 3x3 từ các vị trí tương ứng trong hình ảnh:\n",
        "\n",
        "        # Tính giá trị trung vị (median)\n",
        "\n",
        "        # Thay thế vị trí ở giữa mới giá trị trung vị (lưu ý sử dụng toạ độ so với hình ảnh)\n",
        "\n",
        "### Kết thúc dòng code\n",
        "\n",
        "# Vẽ hình sau khi đã thực hiện median filter\n",
        "plt.figure()\n",
        "plt.imshow(median_image, 'gray')\n",
        "plt.title('Hình sau khi đã thực hiện Median Filter')"
      ],
      "metadata": {
        "id": "JpRMQ5mieHdF"
      },
      "execution_count": null,
      "outputs": []
    }
  ],
  "metadata": {
    "language_info": {
      "name": "python"
    },
    "colab": {
      "provenance": []
    },
    "kernelspec": {
      "name": "python3",
      "display_name": "Python 3"
    }
  },
  "nbformat": 4,
  "nbformat_minor": 0
}