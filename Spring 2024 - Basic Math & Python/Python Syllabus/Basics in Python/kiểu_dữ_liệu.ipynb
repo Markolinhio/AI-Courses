{
  "nbformat": 4,
  "nbformat_minor": 0,
  "metadata": {
    "colab": {
      "provenance": []
    },
    "kernelspec": {
      "name": "python3",
      "display_name": "Python 3"
    },
    "language_info": {
      "name": "python"
    }
  },
  "cells": [
    {
      "cell_type": "markdown",
      "source": [
        "## 1/ Biến và khai báo biến"
      ],
      "metadata": {
        "id": "gmWk8hmm5GQs"
      }
    },
    {
      "cell_type": "markdown",
      "source": [
        "Trong Python, để máy tính có thể đọc được các dữ liệu của người dùng, chúng ta cần phải khai báo các dữ liệu đó và đặt tên cho chúng, cũng tương tự như việc chúng ta cần đặt tên hay số thứ tự để phân biệt các bạn trong một lớp.  \n",
        "\n",
        "Khai báo biến trong Python, chúng ta sử dụng cú pháp:\n",
        "```\n",
        "tên biến = giá trị dữ liệu cần đặt cho biến đó\n",
        "```  \n",
        "\n",
        "Ví dụ: cho một chương trình quy đổi số cân nặng từ đơn vị kg sang lbs, chúng ta cần 2 phần:  \n",
        "Phần 1: dữ liệu cân nặng ban đầu (đơn vị kg)\n",
        "```\n",
        "can_nang_ban_dau = 20\n",
        "```\n",
        "Phần 2: quy đổi cân nặng từ kg sang lbs:  \n",
        "```\n",
        "can_nang_lbs = can_nang_ban_dau * 2.20\n",
        "```  \n",
        "Ở đây, chúng ta quy định biến đầu tiên là ''can_nang_ban_dau'' với giá trị là 20, sau đó chúng ta quy định biến thứ 2 là ''can_nang_lbs'' có giá trị là ''can_nang_ban_dau * 2.20''"
      ],
      "metadata": {
        "id": "y_b0_oZi5JW7"
      }
    },
    {
      "cell_type": "code",
      "execution_count": null,
      "metadata": {
        "id": "jqpvPlxW5D3Q"
      },
      "outputs": [],
      "source": []
    },
    {
      "cell_type": "markdown",
      "source": [
        "## 2/ Các kiểu dữ liệu và các phép toán"
      ],
      "metadata": {
        "id": "kEz__FRg7B-N"
      }
    },
    {
      "cell_type": "markdown",
      "source": [
        "Có thể mô tả kiểu dữ liệu trong Python như định dạng của một biến, tương tự như trong toán học có thể định dạng $x \\in \\mathbb{N}$ nghĩa là x là một số nguyên, còn $y \\in \\mathbb{R}$ nghĩa là y là một số thực. Trong cú pháp Python, ta không cần lúc nào cũng phải xác định định dạng của một biến, mà thường Python sẽ quy định sẵn định dạng tương ứng với biến đó. Ví dụ, khi khai báo\n",
        "```\n",
        "a = 10\n",
        "```\n",
        "Python sẽ tự quy định biến ''a'' có định dạng là số nguyên ''int'', thay vì kiểu số thập phân ''float''. Tuy nhiên, khi quy định\n",
        "```\n",
        "a = 10.0\n",
        "```\n",
        "Python sẽ tự quy định biến ''a'' có định dạng kiểu số thập phân ''float''. Một ví dụ khác, khi quy định:\n",
        "```\n",
        "a = \"10.0\"\n",
        "```\n",
        "Python sẽ tự quy định biến ''a'' là kiểu văn bản ''string''.\n",
        "\n",
        "Mặc dù ta không cần phải quy định kiểu dữ liệu từ trước cho một biến như các ngôn ngữ khác như C hay C++, việc chúng ta luôn lưu ý biến nào mang kiểu dữ liệu nào sẽ rất hữu ích trong việc tính toán và lập trình bằng Python.  \n",
        "\n",
        "Trong Python có rất nhiều kiểu dữ liệu. Tuy nhiên, ta cần nắm được một số kiểu dữ liệu cơ bản và thường sử dụng:  \n",
        "+ Int - Số Nguyên Integer (có thể hiểu như tập $\\mathbb{Z}$)  \n",
        "+ Float - Số thập phân Float (có thể hiểu như tập số thực $\\mathbb{R}$)  \n",
        "+ String - Kiểu văn bản\n",
        "+ Boolean - Kiểu logic (True và False)\n",
        "+ None - kiểu rỗng"
      ],
      "metadata": {
        "id": "HONRAGVK7KxE"
      }
    },
    {
      "cell_type": "markdown",
      "source": [
        "### a/ Các kiểu dữ liệu số và các phép toán"
      ],
      "metadata": {
        "id": "b1y71Kr9DoSZ"
      }
    },
    {
      "cell_type": "markdown",
      "source": [
        "#### Int - Số Nguyên Integer"
      ],
      "metadata": {
        "id": "cWS4sgJA_L7x"
      }
    },
    {
      "cell_type": "markdown",
      "source": [
        "Khai báo một biến có kiểu Int chỉ bằng một số nguyên âm hoặc nguyên dương, không có dấu thập phân hay phần tử thập phân"
      ],
      "metadata": {
        "id": "2XLYPFnoC87g"
      }
    },
    {
      "cell_type": "code",
      "source": [
        "x = 20\n",
        "print(type(x))"
      ],
      "metadata": {
        "id": "5ZbyzIoABN59"
      },
      "execution_count": null,
      "outputs": []
    },
    {
      "cell_type": "markdown",
      "source": [
        "#### Float - Số Thực Float"
      ],
      "metadata": {
        "id": "buF8D8a3_SEe"
      }
    },
    {
      "cell_type": "markdown",
      "source": [
        "Khai báo một biến có kiểu Float bằng một số thập phân âm hoặc dương, có dấu thập phân và có hoặc không có phần tử thập phân"
      ],
      "metadata": {
        "id": "8MhrQcnADJAp"
      }
    },
    {
      "cell_type": "code",
      "source": [
        "x = 20.0\n",
        "print(type(x))\n",
        "x = 20.\n",
        "print(type(x))"
      ],
      "metadata": {
        "id": "kK6J3eQwBOaP"
      },
      "execution_count": null,
      "outputs": []
    },
    {
      "cell_type": "markdown",
      "source": [
        "#### Các phép toán với kiểu số"
      ],
      "metadata": {
        "id": "dMuuUl8xEWd8"
      }
    },
    {
      "cell_type": "markdown",
      "source": [
        "Các phép toán trong Python có kiểu:  \n",
        "+ ```+```: cộng  \n",
        "+ ```-```: trừ  \n",
        "+ ```*```: nhân  \n",
        "+ ```/```: chia  \n",
        "+ ```//```: chia lấy phần nguyên  \n",
        "+ ```%```: chia lấy phần dư  \n",
        "+ ```**```: lấy lũy thừa  "
      ],
      "metadata": {
        "id": "nLlMyCEtEhZq"
      }
    },
    {
      "cell_type": "code",
      "source": [
        "# Ví dụ: Cho 2 số có kiểu Integer\n",
        "x = 25\n",
        "y = 2\n",
        "print('Kiểu dữ liệu của biến x và y: ', type(x), type(y))\n",
        "\n",
        "# Thực hiện các phép toán cơ bản với 2 biến x, y. Lưu ý kiểu dữ liệu của kết quả\n",
        "\n",
        "# Phép cộng\n",
        "print('Kết quả phép cộng: ', x + y)\n",
        "print('Kiểu dữ liệu của kết quả phép cộng: ', type(x + y))\n",
        "\n",
        "# Phép trừ\n",
        "print('Kết quả phép trừ: ', x - y)\n",
        "print('Kiểu dữ liệu của kết quả phép trừ: ', type(x - y))\n",
        "\n",
        "# Phép nhân\n",
        "print('Kết quả phép nhân: ', x * y)\n",
        "print('Kiểu dữ liệu của kết quả phép nhân: ', type(x * y))\n",
        "\n",
        "# Phép chia\n",
        "print('Kết quả phép chia: ', x / y)\n",
        "print('Kiểu dữ liệu của kết quả phép chia: ', type(x / y))\n",
        "\n",
        "# Phép chia lấy phần nguyên\n",
        "print('Kết quả phép chia lấy phần nguyên: ', x // y)\n",
        "print('Kiểu dữ liệu của kết quả phép chia lấy phần nguyên: ', type(x // y))\n",
        "\n",
        "# Phép chia lấy phần dư\n",
        "print('Kết quả phép chia lấy phần dư: ', x % y)\n",
        "print('Kiểu dữ liệu của kết quả phép chia lấy phần dư: ', type(x % y))\n",
        "\n",
        "# Phép lũy thừa\n",
        "print('Kết quả phép lũy thừa: ', x ** y)\n",
        "print('Kiểu dữ liệu của kết quả phép lũy thừa: ', type(x ** y))"
      ],
      "metadata": {
        "colab": {
          "base_uri": "https://localhost:8080/"
        },
        "id": "KO-WdYaFF4Ld",
        "outputId": "cab3176d-ce19-49dd-cb2a-00425d838554"
      },
      "execution_count": 5,
      "outputs": [
        {
          "output_type": "stream",
          "name": "stdout",
          "text": [
            "<class 'int'> <class 'int'>\n",
            "Kết quả phép cộng:  27\n",
            "Kiểu dữ liệu của kết quả phép cộng:  <class 'int'>\n",
            "Kết quả phép trừ:  23\n",
            "Kiểu dữ liệu của kết quả phép trừ:  <class 'int'>\n",
            "Kết quả phép nhân:  50\n",
            "Kiểu dữ liệu của kết quả phép nhân:  <class 'int'>\n",
            "Kết quả phép chia:  12.5\n",
            "Kiểu dữ liệu của kết quả phép chia:  <class 'float'>\n",
            "Kết quả phép chia lấy phần nguyên:  12\n",
            "Kiểu dữ liệu của kết quả phép chia lấy phần nguyên:  <class 'int'>\n",
            "Kết quả phép chia lấy phần dư:  1\n",
            "Kiểu dữ liệu của kết quả phép chia lấy phần dư:  <class 'int'>\n",
            "Kết quả phép lũy thừa:  625\n",
            "Kiểu dữ liệu của kết quả phép lũy thừa:  <class 'int'>\n"
          ]
        }
      ]
    },
    {
      "cell_type": "markdown",
      "source": [
        "### b/ Kiểu văn bản và các phép toán với văn bản"
      ],
      "metadata": {
        "id": "krJujaNZDz19"
      }
    },
    {
      "cell_type": "markdown",
      "source": [
        "#### String - Kiểu văn bản"
      ],
      "metadata": {
        "id": "OsuKgA-k_W64"
      }
    },
    {
      "cell_type": "markdown",
      "source": [
        "Kiểu String trong Python có thể được hiểu như là một văn bản. Trong kiểu string, toàn bộ nội dung của string phải được để trong 2 đầu dấu ngoặc kép \" hoặc ngoặc đơn '."
      ],
      "metadata": {
        "id": "l9warnTEBWtD"
      }
    },
    {
      "cell_type": "code",
      "source": [
        "x = \"20\"\n",
        "print(type(x))"
      ],
      "metadata": {
        "id": "B3ZplOD1BRZI"
      },
      "execution_count": null,
      "outputs": []
    },
    {
      "cell_type": "markdown",
      "source": [
        "#### Các phép toán với kiểu văn bản"
      ],
      "metadata": {
        "id": "O77IJqtpEGBP"
      }
    },
    {
      "cell_type": "markdown",
      "source": [
        "Một văn bản có những phép cơ bản như sau:  \n",
        "+ Ghép 2 văn bản với nhau bằng phép ```+```  \n",
        "+ Viết hoa, viết thường toàn bộ văn bản. Viết hoa chữ đầu văn bản"
      ],
      "metadata": {
        "id": "wStgwk84Hczt"
      }
    },
    {
      "cell_type": "code",
      "source": [
        "# Ghép 2 văn bản với nhau\n",
        "van_ban_1 = \"20\"\n",
        "van_ban_2 = \"24\"\n",
        "\n",
        "print(\"Ghép 2 văn bản 1 và 2:\", van_ban_1 + van_ban_2)\n",
        "\n",
        "# Viết hoa toàn bộ văn bản, ta sử dụng hàm upper() với cú pháp:\n",
        "# van_ban.upper()\n",
        "van_ban_3 = \"hello world\"\n",
        "print(\"Viết hoa toàn bộ văn bản 3:\", van_ban_3.upper())\n",
        "\n",
        "# Viết thường toàn bộ văn bản, ta sử dụng hàm lower() với cú pháp:\n",
        "# van_ban.lower()\n",
        "van_ban_4 = van_ban_3.upper()\n",
        "print(\"Viết thường toàn bộ văn bản 4:\", van_ban_4.lower())\n",
        "\n",
        "# Viết hoa chữ cái đầu của văn bản, ta sử dụng hàm capitalize() với cú pháp:\n",
        "print(\"Viết hoa chữ cái đầu của văn bản 3:\", van_ban_3.capitalize())"
      ],
      "metadata": {
        "colab": {
          "base_uri": "https://localhost:8080/"
        },
        "id": "8KZ97lkZEUHP",
        "outputId": "889b2d69-26f2-4396-ec49-a8d5d8364ddb"
      },
      "execution_count": 6,
      "outputs": [
        {
          "output_type": "stream",
          "name": "stdout",
          "text": [
            "Ghép 2 văn bản 1 và 2: 2024\n",
            "Viết hoa toàn bộ văn bản 3: HELLO WORLD\n",
            "Viết thường toàn bộ văn bản 4: hello world\n",
            "Viết hoa chữ cái đầu của văn bản 3: Hello world\n"
          ]
        }
      ]
    },
    {
      "cell_type": "markdown",
      "source": [
        "Ngoài ra. Một kiểu dữ liệu văn bản còn có thể được xem như là một cấu trúc List (danh sách) các chữ (character). Từ đó, một văn bản có thể được lấy phần tử hoặc cắt ghép như một list. Chúng ta sẽ đề cập về phần này ở dưới"
      ],
      "metadata": {
        "id": "xcHVQylKJPbt"
      }
    },
    {
      "cell_type": "markdown",
      "source": [
        "### c/ Kiểu dữ liệu logic và các phép toán logic"
      ],
      "metadata": {
        "id": "iYwGLrg1_ceT"
      }
    },
    {
      "cell_type": "markdown",
      "source": [
        "Kiểu dữ liệu logic đơn giản chỉ có 2 giá trị ```True``` (đúng) và ```False``` (sai). Thường kiểu dữ liệu này xuất hiện khi ta xét một điều kiện. Đồng thời ta cũng có thể khai báo một biến bằng kiểu dữ liệu Boolean như bình thường"
      ],
      "metadata": {
        "id": "bzSutY3vK_fj"
      }
    },
    {
      "cell_type": "code",
      "source": [
        "# Ví dụ khai báo một biến bằng kiểu dữ liệu Boolean\n",
        "a = True\n",
        "print('Giá trị của biến a:', a)\n",
        "print('Kiểu dữ liệu của biến a:', type(a))\n",
        "\n",
        "# Ví dụ của việc xét điều kiện đúng hay sai:\n",
        "dieu_kien_1 = 20 == 2\n",
        "print('Giá trị của điều kiện 1:', dieu_kien_1)\n",
        "print('Kiểu dữ liệu của điều kiện 1:', type(dieu_kien_1))"
      ],
      "metadata": {
        "id": "6HZIllhV_i9o"
      },
      "execution_count": null,
      "outputs": []
    },
    {
      "cell_type": "markdown",
      "source": [
        "Các phép toán logic sẽ có các phép toán cơ bản như:  \n",
        "+ ```==``` so sánh bằng\n",
        "+ ```!= ``` so sánh khác/không bằng\n",
        "+ ```>``` so sánh lớn hơn  \n",
        "+ ```<``` so sánh bé hơn  \n",
        "+ ```<=``` so sánh bé hơn hoặc bằng  \n",
        "+ ```>=``` so sánh lớn hơn hoặc bằng  \n",
        "\n",
        "Các phép nối các điều kiện logic. Ta sử dụng khi ta muốn xét một lần nhiều điều kiện:  \n",
        "+ ```and```, ```&``` điều kiện tất cả đều cùng đúng (nếu ít nhất một trong số các điều kiện là ```False``` thì sẽ trả ra False)  \n",
        "+ ```or```, ```|``` điều kiện ít nhất một trong tất cả đúng (ít nhất một trong số các điều kiện là ```True``` thì sẽ trả ra True)  \n",
        "+ ```not``` điều kiện ngược (nếu một điều kiện trả ra ```True``` thì qua ```not``` sẽ trả ra ```False``` và ngược lại)\n",
        "\n",
        "Lưu ý: ```and``` và ```or``` chỉ dùng trong câu điều kiện if, còn các toán tử ```&``` và ```|``` thì trong khai báo biến hoặc các lệnh như print"
      ],
      "metadata": {
        "id": "0CPL-G59NHSV"
      }
    },
    {
      "cell_type": "code",
      "source": [
        "# Ví dụ: so sánh 2 biến a và b\n",
        "a = 25\n",
        "b = 20\n",
        "\n",
        "# So sánh bằng\n",
        "print('Kết quả của phép So sánh bằng:', a == b)\n",
        "# So sánh khác/không bằng\n",
        "print('Kết quả của phép So sánh khác:', a != b)\n",
        "# So sánh lớn hơn\n",
        "print('Kết quả của phép So sánh lớn hơn:', a > b)\n",
        "# So sánh bé hơn\n",
        "print('Kết quả của phép So sánh bé hơn:', a < b)\n",
        "# So sánh bé hơn hoặc bằng\n",
        "print('Kết quả của phép So sánh bé hơn hoặc bằng:', a >= b)\n",
        "# So sánh lớn hơn hoặc bằng\n",
        "print('Kết quả của phép So sánh lớn hơn hoặc bằng:', a <= b)"
      ],
      "metadata": {
        "id": "vbQRmRmTOa8F"
      },
      "execution_count": null,
      "outputs": []
    },
    {
      "cell_type": "code",
      "source": [
        "# Ví dụ: Nối 2 điều kiện so sánh 6 biến a, b, c, d, e, f:\n",
        "a = 25\n",
        "b = 20\n",
        "c = 30\n",
        "d = 35\n",
        "e = 40\n",
        "f = 45\n",
        "\n",
        "# Kiểm tra trước một vài điều kiện:\n",
        "dieu_kien_1 = a > b\n",
        "dieu_kien_2 = c >= d\n",
        "dieu_kien_3 = e != f\n",
        "print('Giá trị của điều kiện 1: a > b:', dieu_kien_1)\n",
        "print('Giá trị của điều kiện 2: c >= d:', dieu_kien_2)\n",
        "print('Giá trị của điều kiện 3: e > f:', dieu_kien_3)\n",
        "\n",
        "# Kết quả của điều kiện not\n",
        "print('Giá trị của điều kiện not c >= d:', not dieu_kien_2)\n",
        "\n",
        "# Kết quả của các điều kiện nối bằng and và or:\n",
        "print('Giá trị của nối and 3 điều kiện:', dieu_kien_1 & dieu_kien_2 & dieu_kien_3)\n",
        "print('Giá trị của nối and 3 điều kiện (với điều kiện 2 là not):', dieu_kien_1 & (not dieu_kien_2) & dieu_kien_3)\n",
        "print('Giá trị của nối or 3 điều kiện:', dieu_kien_1 | dieu_kien_2 | dieu_kien_3)"
      ],
      "metadata": {
        "colab": {
          "base_uri": "https://localhost:8080/"
        },
        "id": "-R1pzCSlPIbX",
        "outputId": "d105bdac-1881-4d50-b290-aca3e9bc6f52"
      },
      "execution_count": 33,
      "outputs": [
        {
          "output_type": "stream",
          "name": "stdout",
          "text": [
            "Giá trị của điều kiện 1: a > b: True\n",
            "Giá trị của điều kiện 2: c >= d: False\n",
            "Giá trị của điều kiện 3: e > f: True\n",
            "Giá trị của điều kiện not c >= d: True\n",
            "Giá trị của nối and 3 điều kiện: False\n",
            "Giá trị của nối and 3 điều kiện (với điều kiện 2 là not): True\n",
            "Giá trị của nối or 3 điều kiện: True\n"
          ]
        }
      ]
    },
    {
      "cell_type": "markdown",
      "source": [
        "## d/ Kiểu rỗng"
      ],
      "metadata": {
        "id": "psECpHRV_jvR"
      }
    },
    {
      "cell_type": "markdown",
      "source": [
        "Kiểu rỗng, đúng như cái tên, nghĩa là một biến rỗng không chứa dữ liệu và có kiểu định dạng ```None```. Biến kiểu rỗng thường xuất hiện khi máy thực hiện một lệnh trái logic như lấy một phần tử trong tập hợp rỗng (tập hợp rỗng khác với biến kiểu rỗng). Tuy nhiên, kiểu dữ liệu này hữu dụng trong việc chúng ta cần kiểm tra sự logic trong các phép tính hay các chương trình. Đồng thời, ta có thể dùng ```None``` như một output cho các hàm mà không cần trả ra một giá trị cụ thể.\n",
        "\n",
        "Ví dụ: hàm .append() của Python dùng để thêm một phần tử vào đuôi của một danh sách (list). Tuy nhiên, hàm .append() trực tiếp thay đổi danh sách mà không trả ra một danh sách mới. Cho nên khi ta thực hiện:  \n",
        "```python\n",
        "list_a = [1, 2, 3]\n",
        "list_a.append(4)\n",
        "print(list_a)\n",
        ">>>>>> [1, 2, 3, 4]\n",
        "\n",
        "Tuy nhiên:\n",
        "list_a = list_a.append(4)\n",
        "print(list_a)\n",
        ">>>>>> None\n",
        "```"
      ],
      "metadata": {
        "id": "hBSuAGqIT3jL"
      }
    },
    {
      "cell_type": "markdown",
      "source": [
        "### 3/ Các cấu trúc dữ liệu"
      ],
      "metadata": {
        "id": "ld_lzR_DVSXZ"
      }
    },
    {
      "cell_type": "markdown",
      "source": [
        "Cấu trúc dữ liệu nói chung chỉ những kiểu dữ liệu mà có thể chứa / bao hàm nhiều dữ liệu và kiểu dữ liệu bên trong khác. Có thể hiểu như kiểu một lớp học là một cấu trúc dữ liệu với các học sinh (và thông tin học sinh) là các dữ liệu.  \n",
        "\n",
        "Lưu ý: trong Python, vị trí các phần tử trong một cấu trúc dữ liệu đếm bắt đầu từ số 0. Ví dụ: 0 là phần tử đầu, 1 là phần tử thứ 2  \n",
        "Lưu ý 2: trong Python, ta có thể sử dụng số âm để lấy phần tử trong các cấu trúc dữ liệu, tính từ phần tử cuối. Ví dụ: -1 là phần tử cuối, -2 là phần tử kế cuối\n",
        "\n",
        "Python cũng có rất nhiều loại cấu trúc dữ liệu. Tuy nhiên, một số thường gặp và thường dùng nhất là các cấu trúc dữ liệu:  \n",
        "+ List - danh sách\n",
        "+ Tuple - nhóm  \n",
        "+ Dict - từ điển\n",
        "+ Set - tập hợp"
      ],
      "metadata": {
        "id": "G8yuQC4WVrp6"
      }
    },
    {
      "cell_type": "markdown",
      "source": [
        "#### List - danh sách"
      ],
      "metadata": {
        "id": "Sl3HWtFHVqHI"
      }
    },
    {
      "cell_type": "markdown",
      "source": [
        "List là kiểu dữ liệu cơ bản nhất của Python. Một danh sách có thể chứa ít nhất 0 phần tử với đa dạng các kiểu dữ liệu (không nhất thiết các phần tử trong 1 list có chung một kiểu dữ liệu).\n",
        "\n",
        "Để tạo một list, ta chỉ cần cho các phần tử cần thiết vào 2 dấu ```[``` và ```]``` với các phần tử cách nhau bởi dấu ```,```\n",
        "\n",
        "List rất linh hoạt, có thể thêm bớt các phần tử tùy thích, và có thể sắp xếp lại các phần tử theo một thứ tự khác.\n",
        "\n",
        "List có một nhược điểm được gọi là ''pass by value''. Có nghĩa là, mọi sự thay đổi trên list sẽ được thực hiện trực tiếp lên list mà khó thông qua trung gian. Cho dễ hiểu hơn, ta có một list a và ta tạo một list b bằng cách ```list_b = list_a```, khi đó, mọi sự thay đổi trên list_b đều trực tiếp thay đổi cả ```list_a```."
      ],
      "metadata": {
        "id": "-L7L-IK6XVWv"
      }
    },
    {
      "cell_type": "code",
      "source": [
        "# Ví dụ: khởi tạo một list a:\n",
        "list_a = [1, 2, 3, 4]\n",
        "print(\"Danh sách a và các phần tử:\", list_a)\n",
        "\n",
        "# Các phần tử trong list không nhất thiết cùng một kiểu dữ liệu\n",
        "list_b = [1, 'a', None, -15.0, [1, 2, 3]] # có 5 kiểu dữ liệu trong list_b\n",
        "print(\"Danh sách b và các phần tử:\", list_b)"
      ],
      "metadata": {
        "colab": {
          "base_uri": "https://localhost:8080/"
        },
        "id": "uOL3ubloWoaF",
        "outputId": "57af0f25-1e32-4fa5-f01c-b9d3b0b6fc9b"
      },
      "execution_count": 60,
      "outputs": [
        {
          "output_type": "stream",
          "name": "stdout",
          "text": [
            "Danh sách a và các phần tử: [1, 2, 3, 4]\n",
            "Danh sách b và các phần tử: [1, 'a', None, -15.0, [1, 2, 3]]\n"
          ]
        }
      ]
    },
    {
      "cell_type": "markdown",
      "source": [
        "Các phép toán với list cơ bản:  \n",
        "+ Thêm một phần tử vào đuôi bằng hàm append\n",
        "+ Bỏ một phần tử trong list bằng giá trị\n",
        "+ Bỏ một hoặc nhiều phần tử trong list bằng số thứ tự trong list\n",
        "+ Lấy các phần tử trong list\n",
        "+ Nối 2 list\n",
        "+ Sắp xếp các phần tử trong list"
      ],
      "metadata": {
        "id": "HzAgPLB9Yy3L"
      }
    },
    {
      "cell_type": "code",
      "source": [
        "# Khởi tạo một list a:\n",
        "list_a = [1, 2, 3]\n",
        "print(\"Danh sách a và các phần tử:\", list_a)\n",
        "\n",
        "# Thêm một phần tử vào list_a sử dụng hàm append bằng cú pháp list_a.append(phần tử)\n",
        "# Lưu ý, ta dùng append thẳng chứ không dùng cú pháp list_a = list_a.append(phần tử)\n",
        "list_a.append(4)\n",
        "print(\"Danh sách a và các phần tử:\", list_a)\n",
        "\n",
        "# Ta bỏ một phần tử ra khỏi list bằng cú pháp list_a.remove(phần tử)\n",
        "# Lưu ý: phần tử phải ở trong list\n",
        "# Lưu ý 2: cú pháp của remove tương tự như append\n",
        "list_a.remove(4)\n",
        "print(\"Danh sách a và các phần tử:\", list_a)\n",
        "\n",
        "# Thử bỏ một phần tử không có trong list, nếu code chạy được thì sẽ không thấy dòng cảnh báo:\n",
        "try:\n",
        "    list_a.remove(5)\n",
        "    print(\"Danh sách a và các phần tử:\", list_a)\n",
        "except ValueError:\n",
        "    print(\"Cảnh báo: Phần tử không có trong list\")\n",
        "\n",
        "# Bỏ một hay nhiều phần tử có trong list bằng vị trí trong list\n",
        "# Ta có thể sử dụng cú pháp pop để bỏ một phần tử trong list bằng vị trí tương ứng\n",
        "# bằng cú pháp danh_sách.pop(vị trí cần bỏ)\n",
        "\n",
        "list_b = [1, 2, 3, 4, 5]\n",
        "list_b.pop(2) # bỏ vị trí thứ 2\n",
        "print(\"Danh sách b và các phần tử:\", list_b)\n",
        "\n",
        "# Ngoài ra ta có thể sử dụng cú pháp del danh_sách[một hoặc nhiều vị trí cần bỏ]\n",
        "# bỏ một vị trí\n",
        "list_b = [1, 2, 3, 4, 5]\n",
        "del list_b[2] # bỏ vị trí thứ 2\n",
        "print(\"Danh sách b và các phần tử:\", list_b)\n",
        "\n",
        "# bỏ nhiều vị trí:\n",
        "list_b = [1, 2, 3, 4, 5]\n",
        "del list_b[2: 4] # bỏ vị trí từ thứ 2 đến trước vị trí thứ 4\n",
        "print(\"Danh sách b và các phần tử:\", list_b)\n",
        "\n",
        "# Lấy số phần tử trong một list bằng cú pháp len(list)\n",
        "print(\"Số phần tử trong danh sách a\", len(list_a))\n",
        "\n",
        "# Lấy một hoặc nhiều phần tử trong list bằng cú pháp list_a[các vị trí cần lấy]\n",
        "list_a = [1, 2, 3, 4, 5, 6, 7, 8, 9, 10]\n",
        "print(\"Danh sách phần tử đầu của list_a:\", list_a[0])\n",
        "# Lấy phần tử gần cuối bằng vị trí (độ dài của list - 1 - 1) -1 lần đầu do vị trí bắt đầu từ 0, lần thứ 2 là để lấy vị trí kế cuối\n",
        "print(\"Danh sách phần tử gần cuối của list_a:\", list_a[len(list_a) - 2])\n",
        "# Lấy phần tử cuối bằng số vị trí số âm\n",
        "print(\"Danh sách phần tử gần cuối của list_a:\", list_a[-2])\n",
        "# Lấy nhiều phần tử bằng cú pháp [vị trí đầu: vị trí cuối + 1]\n",
        "print(\"Danh sách 3 phần tử đầu của list_a:\", list_a[0: 3])\n",
        "# Lấy nhiều phần tử bằng cú pháp [vị trí đầu: số phần tử bỏ tính từ vị trí cuối cùng (quy định bằng số âm)]\n",
        "print(\"Danh sách 3 phần tử đầu của list_a:\", list_a[0: -3])\n",
        "\n",
        "# Nối nhiều list với nhau bằng cú pháp danh_sách_a + danh_sách_b:\n",
        "list_b = [11, 12, 13, 14, 15]\n",
        "list_c = list_a + list_b\n",
        "print(\"Danh sách phần tử từ nối danh sách a với danh sách b\", list_c)\n",
        "\n",
        "# Sắp xếp các phần tử trong list bằng hàm sorted hoặc sort\n",
        "list_a = [1, 3, 5, 7, 9, 2, 4, 6, 8]\n",
        "# Cách 1: dùng sorted với cú pháp sorted(danh_sách_cần_sort):\n",
        "print(\"Danh sách a đã được sắp xếp bằng sorted\", sorted(list_a))\n",
        "# Cách 2: dùng sort với cú pháp danh_sách_cần_sort.sort()\n",
        "# Lưu ý: dùng sort giống cú pháp dùng append\n",
        "list_a.sort()\n",
        "print(\"Danh sách a đã được sắp xếp bằng sort:\", list_a)"
      ],
      "metadata": {
        "colab": {
          "base_uri": "https://localhost:8080/"
        },
        "id": "D0_9MIsrZfUm",
        "outputId": "ba778cc6-ccbc-4792-f552-238e37355b0b"
      },
      "execution_count": 54,
      "outputs": [
        {
          "output_type": "stream",
          "name": "stdout",
          "text": [
            "Danh sách a và các phần tử: [1, 2, 3]\n",
            "Danh sách a và các phần tử: [1, 2, 3, 4]\n",
            "Danh sách a và các phần tử: [1, 2, 3]\n",
            "Cảnh báo: Phần tử không có trong list\n",
            "Danh sách b và các phần tử: [1, 2, 4, 5]\n",
            "Danh sách b và các phần tử: [1, 2, 4, 5]\n",
            "Danh sách b và các phần tử: [1, 2, 5]\n",
            "Số phần tử trong danh sách a 3\n",
            "Danh sách phần tử đầu của list_a: 1\n",
            "Danh sách phần tử gần cuối của list_a: 9\n",
            "Danh sách phần tử gần cuối của list_a: 9\n",
            "Danh sách 3 phần tử đầu của list_a: [1, 2, 3]\n",
            "Danh sách 3 phần tử đầu của list_a: [1, 2, 3, 4, 5, 6, 7]\n",
            "Danh sách phần tử từ nối danh sách a với danh sách b [1, 2, 3, 4, 5, 6, 7, 8, 9, 10, 11, 12, 13, 14, 15]\n",
            "Danh sách a đã được sắp xếp bằng sorted [1, 2, 3, 4, 5, 6, 7, 8, 9]\n",
            "Danh sách a đã được sắp xếp bằng sort: [1, 2, 3, 4, 5, 6, 7, 8, 9]\n"
          ]
        }
      ]
    },
    {
      "cell_type": "markdown",
      "source": [
        "#### Tuple - nhóm"
      ],
      "metadata": {
        "id": "HUid7k5JWv69"
      }
    },
    {
      "cell_type": "markdown",
      "source": [
        "Tuple là một dạng list đặc biệt khi ta không thay đổi, thêm bớt, hay sắp xếp các phần tử trong tuple. Khi khai báo thì tuple phải có cố định số phần tử. Tuy nhiên ta có thể truy cập các phần tử trong tuple tương tự như list. Tương tự như list, một tuple có thể chứa nhiều kiểu dữ liệu và cấu trúc dữ liệu\n",
        "\n",
        "Khởi tạo tuple giống như list nhưng thay các dấu ```[```, ```]``` bằng ```(```, ```)```"
      ],
      "metadata": {
        "id": "DwVv2sHchhuR"
      }
    },
    {
      "cell_type": "code",
      "source": [
        "# Khởi tạo tuple a\n",
        "tuple_a = (1, 2, 3)\n",
        "print(\"Danh sách phần tử đầu của tuple_a:\", tuple_a)\n",
        "\n",
        "# Lấy các phần tử trong tuple a bằng vị trí:\n",
        "print(\"Danh sách 2 phần tử đầu của tuple_a:\", tuple_a[0: 2])"
      ],
      "metadata": {
        "colab": {
          "base_uri": "https://localhost:8080/"
        },
        "id": "S8N-2UWjht94",
        "outputId": "3100b513-38bf-48c2-cd94-743f64188f9c"
      },
      "execution_count": 56,
      "outputs": [
        {
          "output_type": "stream",
          "name": "stdout",
          "text": [
            "Danh sách phần tử đầu của tuple_a: (1, 2, 3)\n",
            "Danh sách 2 phần tử đầu của tuple_a: (1, 2)\n"
          ]
        }
      ]
    },
    {
      "cell_type": "markdown",
      "source": [
        "#### Set - tập hợp"
      ],
      "metadata": {
        "id": "ARFd9_WZXA7l"
      }
    },
    {
      "cell_type": "markdown",
      "source": [
        "Set khá là ít dùng trong số các kiểu cấu trúc dữ liệu. Set giống như tuple, không thể thay đổi. Set có một tính chất đặc biệt là sẽ loại các phần tử trùng lặp và đồng thời còn tự sắp xếp lại các phần tử. Set cũng rất không linh hoạt khi các phần tử phải đồng kiểu dữ liệu. Thường set sẽ nên chứa các kiểu dữ liệu Int hoặc Float\n",
        "\n",
        "Khởi tạo set bằng cách set(danh sách chuyển thành dạng set)"
      ],
      "metadata": {
        "id": "ghNiRIs9icvo"
      }
    },
    {
      "cell_type": "code",
      "source": [
        "# Khởi tạo một set a\n",
        "set_a = set([3, 3, 1, 5, 0, 9, 10])\n",
        "print(\"Danh sách phần tử đầu của set_a:\", set_a)"
      ],
      "metadata": {
        "colab": {
          "base_uri": "https://localhost:8080/"
        },
        "id": "Z4xF3n5AilFN",
        "outputId": "dee51d25-9530-4f58-ae49-3f72d23580c0"
      },
      "execution_count": 69,
      "outputs": [
        {
          "output_type": "stream",
          "name": "stdout",
          "text": [
            "Danh sách phần tử đầu của set_a: {0, 1, 3, 5, 9, 10}\n"
          ]
        }
      ]
    },
    {
      "cell_type": "markdown",
      "source": [
        "#### Dict - Từ điển"
      ],
      "metadata": {
        "id": "5d6pnDEeWxYF"
      }
    },
    {
      "cell_type": "markdown",
      "source": [
        "Từ điển là một cấu trúc đặc biệt trong Python. Từ điển sẽ theo một cấu trúc gọi là ```key-value```. Trong từ điển, các key sẽ là duy nhất (không lặp lại) còn các value sẽ là bất kỳ một giá trị với kiểu và cấu trúc dữ liệu bất kỳ.\n",
        "\n",
        "Khởi tạo từ điển bằng cú pháp: ```{ key_1: value_1, key_2: value_2, ...} ```"
      ],
      "metadata": {
        "id": "MRNBp4zHjDNg"
      }
    },
    {
      "cell_type": "code",
      "source": [
        "dict_a = {1: 'hello', 2: 123}\n",
        "print(\"Từ điển a:\", dict_a)"
      ],
      "metadata": {
        "colab": {
          "base_uri": "https://localhost:8080/"
        },
        "id": "Gw4WumEWjpr3",
        "outputId": "2ed873fd-c0b2-4461-ec4c-49bd78325043"
      },
      "execution_count": 64,
      "outputs": [
        {
          "output_type": "stream",
          "name": "stdout",
          "text": [
            "{1: 'hello', 2: 123}\n"
          ]
        }
      ]
    },
    {
      "cell_type": "code",
      "source": [
        "# Để thêm một key, value mới vào từ điển, ta dùng cú pháp:\n",
        "# từ_điển[key_mới] = value_mới\n",
        "dict_a[3] = [1, 2, 3]\n",
        "print(\"Từ điển a mới:\", dict_a)\n",
        "\n",
        "# Để thay đổi value của một key, ta dùng cú pháp:\n",
        "# từ_điển[key_cũ] = value_mới\n",
        "dict_a[1] = \"hello world\"\n",
        "print(\"Từ điển a mới:\", dict_a)\n",
        "\n",
        "# Để bỏ một cặp key, value, ta dùng cú pháp:\n",
        "# del từ_điển[key_cần_bỏ]\n",
        "del dict_a[3]\n",
        "print(\"Từ điển a mới:\", dict_a)"
      ],
      "metadata": {
        "colab": {
          "base_uri": "https://localhost:8080/"
        },
        "id": "ccpFVtspkFQa",
        "outputId": "c6f58899-89d7-4666-a5e3-eb331b2426c0"
      },
      "execution_count": 67,
      "outputs": [
        {
          "output_type": "stream",
          "name": "stdout",
          "text": [
            "Từ điển a mới: {1: 'hello world', 2: 123, 3: [1, 2, 3]}\n",
            "Từ điển a mới: {1: 'hello world', 2: 123, 3: [1, 2, 3]}\n",
            "Từ điển a mới: {1: 'hello world', 2: 123}\n"
          ]
        }
      ]
    },
    {
      "cell_type": "code",
      "source": [
        "### Để lấy hết các key trong một từ điển, ta dùng cú pháp: từ_điển.keys()\n",
        "print(\"Toàn bộ các key trong từ điển a:\", dict_a.keys())\n",
        "\n",
        "### Để lấy hết các value trong một từ điển, ta dùng cú pháp: từ_điển.values()\n",
        "print(\"Toàn bộ các value trong từ điển a:\", dict_a.values())\n",
        "\n",
        "### Để lấy hết các cặp key, value trong một từ điển, ta dùng cú pháp: từ_điển.items()\n",
        "print(\"Toàn bộ các cặp key, value trong từ điển a:\", dict_a.items())"
      ],
      "metadata": {
        "colab": {
          "base_uri": "https://localhost:8080/"
        },
        "id": "ucDgZ0NXks9w",
        "outputId": "a9124d95-8473-43b3-f665-cfe8d615c204"
      },
      "execution_count": 68,
      "outputs": [
        {
          "output_type": "stream",
          "name": "stdout",
          "text": [
            "Toàn bộ các key trong từ điển a: dict_keys([1, 2])\n",
            "Toàn bộ các value trong từ điển a: dict_values(['hello world', 123])\n",
            "Toàn bộ các cặp key, value trong từ điển a: dict_items([(1, 'hello world'), (2, 123)])\n"
          ]
        }
      ]
    }
  ]
}