{
  "nbformat": 4,
  "nbformat_minor": 0,
  "metadata": {
    "colab": {
      "provenance": []
    },
    "kernelspec": {
      "name": "python3",
      "display_name": "Python 3"
    },
    "language_info": {
      "name": "python"
    }
  },
  "cells": [
    {
      "cell_type": "markdown",
      "source": [
        "## Lớp (Class) và Đối tượng (Object)\n",
        "\n",
        "Ví dụ: chúng ta cần một chương trình Python quản lý một trường học có nhiều lớp và mỗi lớp có nhiều học sinh. Chương trình đó cần phải lưu được thông tin cá nhân của từng học sinh, điểm số các môn học của học sinh, và từ các điểm số xếp học sinh vào thành tích 'Trung Bình', 'Khá', và 'Giỏi'.\n",
        "\n",
        "Để thiết kế một chương trình thế này, ta có thể sử dụng các cấu trúc dữ liệu như list hay dict. Tuy nhiên, một chương trình như thế này có một số điều khó thực hiện:\n",
        "+ List và dict rất khó thiết kế được một chương trình mà dữ liệu chồng chéo lên nhau như thế này (ví dụ dùng list thì list phải có rất nhiều chiều và lượng thông tin nhập vào rất lớn)\n",
        "+ List và dict rất khó truy xuất thông tin, ví dụ của một học sinh A. Vì với list chỉ có thể truy cập bằng vị trí trong list, hay với dict thì là key, việc dữ liệu chồng chéo sẽ rất khó trong truy cập. Ngoài ra, một lớp thì số thứ tự của các bạn sẽ bắt đầu từ 1, và sẽ có các bạn có tên trùng nhau, vì vậy sẽ rất khó thiết kế một dict khi key trong dict phải là duy nhất\n",
        "\n",
        "Vì vậy, chúng ta cần phải sử dụng Lớp (Class) và Đối Tượng (Object) trong Python để có thể lưu thông tin cho chương trình dễ dàng và đồng thời dễ dàng truy xuất các thông tin này khi cần thiết. Việc lập trình một chương trình xoay quanh các Lớp và Đối Tượng cho việc truy xuất thông tin là điều cơ bản trong Lập Trình Hướng Đối Tượng (Object-oriented Programming). Khi nắm được OOP trong tay, ta có thể dễ dàng thiết kế các chương trình phức tạp một cách logic và các thông tin sẽ được liên kết và truy xuất lẫn nhau một cách dễ dàng (ví dụ như dễ dàng truy cập danh sách toàn bộ học sinh 'Giỏi' trong trường)."
      ],
      "metadata": {
        "id": "fajabR7q-uaV"
      }
    },
    {
      "cell_type": "markdown",
      "source": [
        "### Đối Tượng (Object)\n",
        "\n",
        "Một đối tượng, đúng như tên của nó, có thể đơn giản là một vật thể, hay một mẫu dữ liệu. Trong ví dụ của chúng ta, một object có thể là một bạn học sinh, một lớp, hay thậm chí là bảng điểm của một học sinh.\n",
        "\n",
        "Một đối tượng có thể có những tính chất (attributes) nhất định. Ví dụ mỗi bạn học sinh sẽ có Số thứ tự, Tên, Lớp học, Bảng điểm. Hay bảng điểm sẽ có Điểm Toán, Điểm Văn, Điểm Tiếng Anh, Điểm Lý, v.v. Mỗi bảng điểm sẽ có thể giống hoặc khác nhau (ví dụ như điểm toán của 2 bạn có thể khác nhau), nhưng chắc chắn rằng 2 bạn đều có điểm toán.\n",
        "\n",
        "Điều đó dẫn chúng ta đến định nghĩa Class"
      ],
      "metadata": {
        "id": "aeu2EROJIkFO"
      }
    },
    {
      "cell_type": "markdown",
      "source": [
        "### Lớp (Class)\n",
        "\n"
      ],
      "metadata": {
        "id": "qMWflAFJBBPW"
      }
    },
    {
      "cell_type": "markdown",
      "source": [
        "Class có thể được xem như là một cái khuôn mẫu để tạo ra các đối tượng. Cho dễ hiểu thì mỗi ví dụ của một Class thì là một Object. Ví dụ: ta có Class Học sinh chứa các khuôn mẫu mà thông tin mỗi học sinh phải có là Số thứ tự, Tên, Lớp Học, và Bảng điểm. Khi đó, khi ta thêm một Object học sinh, ta chỉ cần quy định biến ```hoc_sinh_1``` thuộc class Học Sinh và ta điền vào các thông tin tương ứng là được."
      ],
      "metadata": {
        "id": "ONC9TguxIPOu"
      }
    },
    {
      "cell_type": "markdown",
      "source": [
        "Cú pháp của một class trong Python như sau (lưu ý các dấu ```:```, ```_```, và thụt dòng):\n",
        "```python\n",
        "class Student:\n",
        "    def __init__(self, so_thu_tu, ten, lop, diem_so):\n",
        "        self.so_thu_tu = so_thu_tu\n",
        "        self.ten = ten\n",
        "        self.lop = lop\n",
        "        self.diem_so = diem_so\n",
        "    \n",
        "    def ten_hoc_sinh(self):\n",
        "        return self.ten_hoc_sinh\n",
        "    \n",
        "    def so_thu_tu(self):\n",
        "        return self.so_thu_tu\n",
        "\n",
        "    def lop(self):\n",
        "        return self.lop\n",
        "\n",
        "    def diem_so(self):\n",
        "        return self.diem_so\n",
        "\n",
        "    def phan_loai(self):\n",
        "        trung_binh = sum(self.diem_so)/len(self.diem_so)\n",
        "        if trung_binh >= 8:\n",
        "            return 'Gioi'\n",
        "        elif 6.5 <= trung_binh < 8:\n",
        "            return 'Khá;\n",
        "        else:\n",
        "            return 'Trung Bình'\n",
        "\n",
        "    def cong_diem(self, so_diem_cong, diem_mon):\n",
        "        self.diem_so[mon_hoc] = self.diem_so[mon_hoc] + so_diem_cong\n",
        "```\n",
        "\n",
        "Các cú pháp của một class như sau:\n",
        "+ Ta bắt đầu khai báo một class bằng cách gọi ```class``` sau đó liền sau là tên Class và dấu ```:```\n",
        "+ Hàm đầu tiên trong một class LUÔN LUÔN là hàm ```__init__```. Ta có thể xem hàm ```__init__``` là để quy định một class có những ```attributes``` nào, ở đây là ```so_thu_tu```, ```ten```, ```lop```, ```diem_so```\n",
        "+ Hàm ```__init__``` đồng thời được dùng để đưa những thông tin dữ liệu từ parameter vào trong class. Ở đây, những thông tin ở ngoài là ```so_thu_tu```, ```ten```, ```lop```, ```diem_so```. Còn những biến ```self.so_thu_tu```, ```self.ten```, ```self.lop```, ```self.diem_so``` lại là những attribute sẵn có trong class và chưa có giá trị. Vì thế nên ta mới phải quy định từng attribute trong class sẽ có giá trị gì bằng những dòng ```self.ten = ten```\n",
        "+ Những cái hàm tiếp theo trong class là những phép tính toán trong class cũng như là cách để truy xuất thông tin trong class. Những thông tin trong class không thể truy cập từ ngoài vào được. Vì thế nên ta cần những hàm này để truy xuất thông tin trong class ra. Ví dụ như ``` def phan_loai(self)``` cho chúng ta biết phân loại của học sinh là gì (phân loại của học sinh được tính hoàn toàn bên trong class).\n",
        "+ Những hàm trong class luôn có một parameter mặc định là ```self``` (vẫn có thể có những parameter khác do chúng ta thiết kế ví dụ như ```def cong_diem```). Trong các hàm khác với ```__init__```, parameter ```self``` có thể hiểu là mình cần truy xuất những dữ liệu từ chính class đó, nên mình cần parameter này. Còn hàm ```__init__``` là cố định và parameter ```self``` là để thêm các dữ liệu vào các ```attribute``` của class\n",
        "\n",
        "Sau khi quy định một class như là một khuôn mẫu, ta có thể tạo ra các Object học sinh bằng cú pháp:\n",
        "```python\n",
        "hoc_sinh_1 = Student(so_thu_tu=1, ten='A', lop=Toan, diem_so=[10, 7, 4, 5])\n",
        "hoc_sinh_2 = Student(so_thu_tu=2, ten='B', lop=Toan, diem_so=[8, 8, 6, 7])\n",
        "hoc_sinh_3 = Student(1, 'B', 'Van', diem_so=[7, 9, 7, 8])\n",
        "```"
      ],
      "metadata": {
        "id": "cuMz-w-KKIjD"
      }
    },
    {
      "cell_type": "markdown",
      "source": [
        "Hệ Thống Cấp Bậc của Class (Phần này khá nâng cao. Nên chúng ta sẽ chỉ nói sơ qua):\n",
        "\n",
        "Vì Class là một khuôn mẫu, ta có thể dùng một class này để quy định một class kia. Ví dụ, ta có một class: ```class Hinh_Da_Giac```. Class này sẽ có thông tin chiều dài các cạnh đa giác, và sẽ có một hàm tính chu vi và một hàm tính diện tích. Tuy nhiên, từ class ```class Hinh_Da_Giac```, ta có thể tạo một class con ```class Hinh_Tam_Giac``` như là một khuôn mẫu đặc biệt của hình đa giác khi số cạnh luôn bằng 3. Lúc đó, class ```Hinh_Tam_Giac``` sẽ tự động có attribute chiều dài các cạnh như class mẹ của nó, nhưng ta có thể quy định lại các hàm tính chu vi và diện tích mặc định như ```def dien_tich: day*cao/2```.\n",
        "\n",
        "Nói cách khác, class con sẽ có cùng các attribute và các hàm của class mẹ. Tuy nhiên việc tạo class con giúp ta có thể quy định lại các hàm hay các attribute, làm cho việc tính toán trên các class con đơn giản hơn. Ví dụ như hình đa giác sẽ chứa hình tam giác, hình chữ nhật, hình vuông, v.v. với mỗi hình đặc biệt sẽ có cách tính diện tích của riêng nó mà không cần theo công thức gốc của hình đa giác."
      ],
      "metadata": {
        "id": "AaULfTA7ULf2"
      }
    },
    {
      "cell_type": "code",
      "execution_count": null,
      "metadata": {
        "id": "QVJ8GeK_-qs-"
      },
      "outputs": [],
      "source": []
    }
  ]
}