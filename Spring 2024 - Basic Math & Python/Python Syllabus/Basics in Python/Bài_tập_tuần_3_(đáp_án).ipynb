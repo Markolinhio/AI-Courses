{
  "nbformat": 4,
  "nbformat_minor": 0,
  "metadata": {
    "colab": {
      "provenance": []
    },
    "kernelspec": {
      "name": "python3",
      "display_name": "Python 3"
    },
    "language_info": {
      "name": "python"
    }
  },
  "cells": [
    {
      "cell_type": "markdown",
      "source": [
        "Viết một chương trình quản lý lương thưởng một công ty.\n",
        "\n",
        "Công ty sẽ có 4 phòng ban khác nhau. Mỗi phòng ban sẽ có một số nhân viên nhất định và một quản lý."
      ],
      "metadata": {
        "id": "dfQbEzUYyZbL"
      }
    },
    {
      "cell_type": "markdown",
      "source": [
        "Viết 1 class Department (phòng ban) chứa:\n",
        "+ Tên phòng ban: string\n",
        "+ danh sách nhân viên: list các object nhân viên (bao gồm quản lý), mặc định là một list rỗng\n",
        "+ mức thưởng: dạng float (thưởng theo % lương một nhân viên nếu nhân viên đạt một mức điểm tiến độ nhất định)\n",
        "+ quản lý: trả ra object nhân viên làm quản lý của phòng ban, định dạng mặc định là None\n",
        "\n",
        "Class Department chứa các hàm:\n",
        "+ name: in tên phòng ban\n",
        "+ employees: trả ra danh sách các nhân viên bao gồm quản lý\n",
        "+ manager: trả ra object nhân viên làm quản lý của phòng ban\n",
        "+ bonus: trả ra mức thưởng của phòng ban\n",
        "+ print_info: không trả ra gì cả nhưng in ra một dòng theo cú pháp: ''Phòng ban {tên phòng ban} với quản lý là: {tên nhân viên}'' nếu như có quản lý và theo cú pháp ''Phòng ban {tên phòng ban} và hiện chưa có quản lý''\n",
        "+ add_employee(employee): thêm một đối tượng nhân viên vào danh sách phòng ban, không trả ra gì cả\n",
        "+ add_manager(employee): thêm một đối tượng nhân vìên làm quản lý, xét nếu như phòng ban đó chưa có quản lý và nhân viên đấy chưa làm quản lý (đổi tình trạng manager của nhân viên đấy thành True) thì mới thêm vào, trả ra True nếu nhân viên được lên làm quản lý thành công và False nếu không được"
      ],
      "metadata": {
        "id": "PX9Q0JNglyq1"
      }
    },
    {
      "cell_type": "code",
      "source": [
        "# TODO: Viết class Department\n",
        "class Department:\n",
        "  # TODO: Thêm các attribute vào def init và để giá trị mặc định tương ứng\n",
        "  def __init__(self, name, employee_list=None, bonus=0, manager=None):\n",
        "    # Ở đây có một trick, đó là để tránh trường hợp call by reference của list\n",
        "    # ta khởi tạo mặc định là dạng None, rồi sau đó mới dùng if else để tạo list rỗng\n",
        "    self.name = name\n",
        "    self.employee_list = [] if employee_list is None else employee_list\n",
        "    self.bonus = bonus\n",
        "    self.manager = None\n",
        "\n",
        "  # TODO: Viết các hàm theo yêu cầu\n",
        "  def name(self):\n",
        "    return self.name\n",
        "\n",
        "  def employees(self):\n",
        "    return self.employee_list\n",
        "\n",
        "  def manager(self):\n",
        "    return self.manager\n",
        "\n",
        "  def bonus(self):\n",
        "    return self.bonus\n",
        "\n",
        "  def print_info(self):\n",
        "    if self.manager is not None:\n",
        "      print(\"Phòng ban \" + self.name + \" với quản lý là: \" + self.manager.name())\n",
        "    else:\n",
        "      print(\"Phòng ban \" + self.name + \" và hiện chưa có quản lý\")\n",
        "\n",
        "  def add_employee(self, employee):\n",
        "    self.employee_list.append(employee)\n",
        "\n",
        "  def add_manager(self, employee):\n",
        "    if self.manager is not None and not employee.is_manager:\n",
        "      self.manager = employee\n",
        "      return True\n",
        "    return False"
      ],
      "metadata": {
        "id": "ml3YM4Ew4JIh"
      },
      "execution_count": 4,
      "outputs": []
    },
    {
      "cell_type": "markdown",
      "source": [
        "Tạo 4 object tương đương các phòng ban, với danh sách nhân viên là một list rỗng:\n",
        "+ Ban IT, mức thưởng 10%\n",
        "+ Ban Marketing, mức thưởng 8%\n",
        "+ Ban Quality Control, mức thưởng 12%\n",
        "+ Ban Security, mức thưởng 10%"
      ],
      "metadata": {
        "id": "gBX_fDObmNGL"
      }
    },
    {
      "cell_type": "code",
      "source": [
        "# TODO: Tạo các object tương ứng với các phòng ban\n",
        "it_dept = Department('IT', bonus=10)\n",
        "marketing_dept = Department('Marketing', bonus=8)\n",
        "qc_dept = Department('Quality Control', bonus=12)\n",
        "security_dept = Department('Security', bonus=10)"
      ],
      "metadata": {
        "id": "A316HbuTB3tC"
      },
      "execution_count": 5,
      "outputs": []
    },
    {
      "cell_type": "markdown",
      "source": [
        "Viết 1 class Employee chứa:\n",
        "+ ID: dạng int\n",
        "+ name: dạng string\n",
        "+ department: dạng Department\n",
        "+ salary: dạng int, hiển thị lương đang hưởng, mặc định là 0\n",
        "+ productivity: dạng int (từ 1 đến 100), hiển thị năng suất làm việc 1 năm (thể hiện năng suất các tháng), mặc định là 0\n",
        "+ day_off: dạng list chứa int, hiển thị số ngày nghỉ mỗi tháng, mặc định là 0\n",
        "+ manager: dạng boolean, quy định nhân viên có phải là một manager hay không, mặc định là False\n",
        "\n",
        "Class Employee chứa các hàm:\n",
        "+ name: trả ra tên nhân viên\n",
        "+ print_info: in thông tin nhân viên theo cú pháp: \"Nhân viên {tên nhân viên} làm việc tại phòng {tên phòng ban} vị trí {nhân viên/quản lý tuỳ vào biết is_manager} với mức lương {mức lương}\"\n",
        "+ print_department: in thông tin phòng ban bao gồm tên phòng ban và người quản lý, không trả ra gì cả\n",
        "+ is_manager: trả ra dạng Boolean liệu nhân viên đấy có phải manager không\n",
        "+ promote: thăng chức nhân viên thành quản lý (đổi giá trị manager từ False thành True khi và chỉ khi giá trị đang là False). Trả ra True nếu thành công\n",
        "+ eligible: trả ra liệu nhân viên có được nhận thưởng hay không (dạng Boolean). Điều kiện là nhân viên không nghỉ quá 20 ngày trong năm và có mức năng suất trên 80%\n",
        "+ change_salary(mức_thay_đổi): thay đổi lương của nhân viên dựa vào mức thay đổi (%)\n",
        "+ salary: trả ra lương của nhân viên"
      ],
      "metadata": {
        "id": "om_yfloIlrQW"
      }
    },
    {
      "cell_type": "code",
      "source": [
        "# TODO: Viết class Employee\n",
        "class Employee:\n",
        "  # TODO: Thêm các attribute vào def init và để giá trị mặc định tương ứng\n",
        "  def __init__(self, id, name, department, salary=0, productivity=0, day_off=0, manager=False):\n",
        "    self.id = id\n",
        "    self.name = name\n",
        "    self.department = department\n",
        "    self.salary = salary\n",
        "    self.productivity = productivity\n",
        "    self.day_off = day_off\n",
        "    self.manager = False\n",
        "\n",
        "  # TODO: Viết các hàm theo yêu cầu\n",
        "  def name(self):\n",
        "    return self.name\n",
        "\n",
        "  def print_info(self):\n",
        "    position = 'quản lý' if self.is_manager else 'nhân viên'\n",
        "    print(\"Nhân viên \" + self.name + \" làm việc tại phòng \" + self.department.name() + \" vị trí \" + position + \" với mức lương \" + self.salary)\n",
        "\n",
        "  def print_department(self):\n",
        "    self.department.print_info()\n",
        "\n",
        "  def is_manager(self):\n",
        "    return self.is_manager\n",
        "\n",
        "  def promote(self):\n",
        "    if not self.manager:\n",
        "      self.manager = True\n",
        "      return True\n",
        "    return False\n",
        "\n",
        "  def eligible(self):\n",
        "    return self.productivity > 80 and self.day_off <= 20\n",
        "\n",
        "  def change_salary(self, percentage):\n",
        "    self.salary *= (1 + percentage)\n",
        "\n",
        "  def salary(self):\n",
        "    return self.salary"
      ],
      "metadata": {
        "id": "51NSHNVT4KGH"
      },
      "execution_count": 2,
      "outputs": []
    },
    {
      "cell_type": "markdown",
      "source": [
        "Đọc text file, lấy thông tin các nhân viên, mỗi dòng thông tin thì tạo một object. Thêm các nhân viên vào các phòng ban tương ứng."
      ],
      "metadata": {
        "id": "3GLoFTQYlnyB"
      }
    },
    {
      "cell_type": "code",
      "source": [
        "# TODO: Đọc file data.txt, tạo ra các đối tượng nhân viên tương ứng\n",
        "# Hint 1: Sử dụng I/O, đọc các dòng\n",
        "# Hint 2: Mỗi dòng là các dạng string, với data được cách nhau bởi dấu ','. Sự dụng hàm split() của Python để tách các mẩu data thành các attribute tương ứng\n",
        "# Hint 3: Khi đọc file, các mẩu data định dạng mặc định là string. Đổi thành định dạng tương ứng rồi mới tạo các đối tượng\n",
        "\n",
        "# TODO: Thêm các đối tượng nhân viên vào các phòng ban.\n",
        "# Hint: Dùng if-else để phân biệt nhân viên thuộc phòng ban nào\n",
        "\n",
        "# TODO: Thăng chức các nhân viên có mức lương cao nhất trong phòng ban hiện tại thành quản lý (thêm quản lý vào phòng ban và chuyển các nhân viên đấy thành quản lý)\n",
        "# Hint: Sử dụng các hàm promote, add_manager\n",
        "\n",
        "# TODO: Với mỗi nhân viên, tính toán liệu nhân viên có được tăng lương và thực hiện tăng lương\n",
        "# Hint: Sử dụng các hàm eligible, bonus, change_salary\n",
        "\n",
        "# TODO: In ra thông tin các nhân viên được tăng lương\n",
        "# Hint: Sử dụng các hàm print_info"
      ],
      "metadata": {
        "id": "IHQBlBwY5M27"
      },
      "execution_count": 3,
      "outputs": []
    }
  ]
}